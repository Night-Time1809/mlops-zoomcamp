{
 "cells": [
  {
   "cell_type": "code",
   "execution_count": 1,
   "id": "e6a1d6d7-42d0-4f9e-be61-cfe7f04e25d1",
   "metadata": {},
   "outputs": [],
   "source": [
    "from mlflow.tracking import MlflowClient"
   ]
  },
  {
   "cell_type": "code",
   "execution_count": 2,
   "id": "49ec8147-fffd-4cee-a6a4-167ea551e715",
   "metadata": {},
   "outputs": [],
   "source": [
    "MLFLOW_TRACKING_URI = \"sqlite:///mlflow.db\"\n",
    "\n",
    "client = MlflowClient(tracking_uri=MLFLOW_TRACKING_URI)"
   ]
  },
  {
   "cell_type": "code",
   "execution_count": 3,
   "id": "ac05df57-9c55-4b0d-b165-e3cc09296b89",
   "metadata": {},
   "outputs": [
    {
     "data": {
      "text/plain": [
       "[<Experiment: artifact_location='/workspaces/mlops-zoomcamp/02-experiment-tracking/mlruns/3', creation_time=1717351950369, experiment_id='3', last_update_time=1717351950369, lifecycle_stage='active', name='my-cool-experiment2', tags={}>,\n",
       " <Experiment: artifact_location='/workspaces/mlops-zoomcamp/02-experiment-tracking/mlruns/2', creation_time=1717342586941, experiment_id='2', last_update_time=1717342586941, lifecycle_stage='active', name='my-cool-experiment', tags={}>,\n",
       " <Experiment: artifact_location='/workspaces/mlops-zoomcamp/02-experiment-tracking/mlruns/1', creation_time=1716700742592, experiment_id='1', last_update_time=1716700742592, lifecycle_stage='active', name='nyc-taxi-experiment', tags={}>,\n",
       " <Experiment: artifact_location='mlflow-artifacts:/0', creation_time=1716700213361, experiment_id='0', last_update_time=1716700213361, lifecycle_stage='active', name='Default', tags={}>]"
      ]
     },
     "execution_count": 3,
     "metadata": {},
     "output_type": "execute_result"
    }
   ],
   "source": [
    "client.search_experiments()"
   ]
  },
  {
   "cell_type": "code",
   "execution_count": 5,
   "id": "0d999278-af0f-45b8-9477-2a80da8e56bf",
   "metadata": {
    "scrolled": true
   },
   "outputs": [
    {
     "data": {
      "text/plain": [
       "'3'"
      ]
     },
     "execution_count": 5,
     "metadata": {},
     "output_type": "execute_result"
    }
   ],
   "source": [
    "client.create_experiment(name=\"my-cool-experiment2\")"
   ]
  },
  {
   "cell_type": "code",
   "execution_count": 4,
   "id": "1e9aec04-fd84-41b2-b190-d6bd905f8204",
   "metadata": {},
   "outputs": [],
   "source": [
    "from mlflow.entities import ViewType\n",
    "\n",
    "runs  = client.search_runs(experiment_ids=\"1\", filter_string=\"\", run_view_type=ViewType.ACTIVE_ONLY,\n",
    "                          max_results=5, order_by=[\"metrics.rmse ASC\"])"
   ]
  },
  {
   "cell_type": "code",
   "execution_count": 5,
   "id": "16838a13-3c16-4819-be55-a04d142a57de",
   "metadata": {},
   "outputs": [
    {
     "data": {
      "text/plain": [
       "[<Run: data=<RunData: metrics={'rmse': 6.316686131714485}, params={'learning_rate': '0.21376651791094933',\n",
       "  'max_depth': '48',\n",
       "  'min_child_weight': '1.3498782970485983',\n",
       "  'objective': 'reg:linear',\n",
       "  'reg_alpha': '0.19695020158943471',\n",
       "  'reg_lambda': '0.02024920384027934',\n",
       "  'seed': '42'}, tags={'mlflow.log-model.history': '[{\"run_id\": \"bd445d19e0294436bdf2d5092915bca8\", '\n",
       "                              '\"artifact_path\": \"models_mlflow\", '\n",
       "                              '\"utc_time_created\": \"2024-05-27 '\n",
       "                              '12:45:37.047398\", \"flavors\": {\"python_function\": '\n",
       "                              '{\"loader_module\": \"mlflow.xgboost\", '\n",
       "                              '\"python_version\": \"3.9.19\", \"data\": \"model.xgb\", '\n",
       "                              '\"env\": {\"conda\": \"conda.yaml\", \"virtualenv\": '\n",
       "                              '\"python_env.yaml\"}}, \"xgboost\": {\"xgb_version\": '\n",
       "                              '\"2.0.3\", \"data\": \"model.xgb\", \"model_class\": '\n",
       "                              '\"xgboost.core.Booster\", \"model_format\": \"xgb\", '\n",
       "                              '\"code\": null}}, \"model_uuid\": '\n",
       "                              '\"91e3df3d4cd64f6ea2fcefa49a36cec4\", '\n",
       "                              '\"mlflow_version\": \"2.13.0\", \"model_size_bytes\": '\n",
       "                              '5085570}]',\n",
       "  'mlflow.runName': 'delightful-deer-936',\n",
       "  'mlflow.source.name': '/home/codespace/anaconda3/envs/exp-tracking-env/lib/python3.9/site-packages/ipykernel_launcher.py',\n",
       "  'mlflow.source.type': 'LOCAL',\n",
       "  'mlflow.user': 'codespace'}>, info=<RunInfo: artifact_uri='/workspaces/mlops-zoomcamp/02-experiment-tracking/mlruns/1/bd445d19e0294436bdf2d5092915bca8/artifacts', end_time=1716813939609, experiment_id='1', lifecycle_stage='active', run_id='bd445d19e0294436bdf2d5092915bca8', run_name='delightful-deer-936', run_uuid='bd445d19e0294436bdf2d5092915bca8', start_time=1716813882840, status='FINISHED', user_id='codespace'>, inputs=<RunInputs: dataset_inputs=[]>>,\n",
       " <Run: data=<RunData: metrics={'rmse': 6.316686131714485}, params={'learning_rate': '0.21376651791094933',\n",
       "  'max_depth': '48',\n",
       "  'min_child_weight': '1.3498782970485983',\n",
       "  'objective': 'reg:linear',\n",
       "  'reg_alpha': '0.19695020158943471',\n",
       "  'reg_lambda': '0.02024920384027934',\n",
       "  'seed': '42'}, tags={'mlflow.log-model.history': '[{\"run_id\": \"dcb560dd39354958974be6a0b7e5f37a\", '\n",
       "                              '\"artifact_path\": \"models_mlflow\", '\n",
       "                              '\"utc_time_created\": \"2024-05-27 '\n",
       "                              '09:34:57.945674\", \"flavors\": {\"python_function\": '\n",
       "                              '{\"loader_module\": \"mlflow.xgboost\", '\n",
       "                              '\"python_version\": \"3.9.19\", \"data\": \"model.xgb\", '\n",
       "                              '\"env\": {\"conda\": \"conda.yaml\", \"virtualenv\": '\n",
       "                              '\"python_env.yaml\"}}, \"xgboost\": {\"xgb_version\": '\n",
       "                              '\"2.0.3\", \"data\": \"model.xgb\", \"model_class\": '\n",
       "                              '\"xgboost.core.Booster\", \"model_format\": \"xgb\", '\n",
       "                              '\"code\": null}}, \"model_uuid\": '\n",
       "                              '\"c98e5e5a26564b748bffb75976c82f0c\", '\n",
       "                              '\"mlflow_version\": \"2.13.0\", \"model_size_bytes\": '\n",
       "                              '5085570}]',\n",
       "  'mlflow.runName': 'bald-crane-418',\n",
       "  'mlflow.source.name': '/home/codespace/anaconda3/envs/exp-tracking-env/lib/python3.9/site-packages/ipykernel_launcher.py',\n",
       "  'mlflow.source.type': 'LOCAL',\n",
       "  'mlflow.user': 'codespace'}>, info=<RunInfo: artifact_uri='/workspaces/mlops-zoomcamp/02-experiment-tracking/mlruns/1/dcb560dd39354958974be6a0b7e5f37a/artifacts', end_time=1716802500694, experiment_id='1', lifecycle_stage='active', run_id='dcb560dd39354958974be6a0b7e5f37a', run_name='bald-crane-418', run_uuid='dcb560dd39354958974be6a0b7e5f37a', start_time=1716802443171, status='FINISHED', user_id='codespace'>, inputs=<RunInputs: dataset_inputs=[]>>,\n",
       " <Run: data=<RunData: metrics={'rmse': 6.316686131714485}, params={'learning_rate': '0.21376651791094933',\n",
       "  'max_depth': '48',\n",
       "  'min_child_weight': '1.3498782970485983',\n",
       "  'objective': 'reg:linear',\n",
       "  'reg_alpha': '0.19695020158943471',\n",
       "  'reg_lambda': '0.02024920384027934',\n",
       "  'seed': '42'}, tags={'mlflow.runName': 'sincere-pig-802',\n",
       "  'mlflow.source.name': '/home/codespace/anaconda3/envs/exp-tracking-env/lib/python3.9/site-packages/ipykernel_launcher.py',\n",
       "  'mlflow.source.type': 'LOCAL',\n",
       "  'mlflow.user': 'codespace',\n",
       "  'model': 'xgboost'}>, info=<RunInfo: artifact_uri='/workspaces/mlops-zoomcamp/02-experiment-tracking/mlruns/1/39a28b28d0da48798522ecb3715a5b28/artifacts', end_time=1716705198663, experiment_id='1', lifecycle_stage='active', run_id='39a28b28d0da48798522ecb3715a5b28', run_name='sincere-pig-802', run_uuid='39a28b28d0da48798522ecb3715a5b28', start_time=1716705098892, status='FINISHED', user_id='codespace'>, inputs=<RunInputs: dataset_inputs=[]>>,\n",
       " <Run: data=<RunData: metrics={'rmse': 6.417884623943859}, params={'learning_rate': '0.8888809772309892',\n",
       "  'max_depth': '97',\n",
       "  'min_child_weight': '2.2296951025318625',\n",
       "  'objective': 'reg:linear',\n",
       "  'reg_alpha': '0.09172335056339005',\n",
       "  'reg_lambda': '0.023981852845147537',\n",
       "  'seed': '42'}, tags={'mlflow.runName': 'luminous-duck-257',\n",
       "  'mlflow.source.name': '/home/codespace/anaconda3/envs/exp-tracking-env/lib/python3.9/site-packages/ipykernel_launcher.py',\n",
       "  'mlflow.source.type': 'LOCAL',\n",
       "  'mlflow.user': 'codespace',\n",
       "  'model': 'xgboost'}>, info=<RunInfo: artifact_uri='/workspaces/mlops-zoomcamp/02-experiment-tracking/mlruns/1/a60b8295c8d54a9c89821e9ac82b18f7/artifacts', end_time=1716705238344, experiment_id='1', lifecycle_stage='active', run_id='a60b8295c8d54a9c89821e9ac82b18f7', run_name='luminous-duck-257', run_uuid='a60b8295c8d54a9c89821e9ac82b18f7', start_time=1716705198700, status='FINISHED', user_id='codespace'>, inputs=<RunInputs: dataset_inputs=[]>>,\n",
       " <Run: data=<RunData: metrics={'rmse': 6.457029176345168}, params={'learning_rate': '0.2876869543715332',\n",
       "  'max_depth': '96',\n",
       "  'min_child_weight': '0.5217303400070488',\n",
       "  'objective': 'reg:linear',\n",
       "  'reg_alpha': '0.044629144197108936',\n",
       "  'reg_lambda': '0.030008890346257127',\n",
       "  'seed': '42'}, tags={'mlflow.runName': 'mysterious-newt-857',\n",
       "  'mlflow.source.name': '/home/codespace/anaconda3/envs/exp-tracking-env/lib/python3.9/site-packages/ipykernel_launcher.py',\n",
       "  'mlflow.source.type': 'LOCAL',\n",
       "  'mlflow.user': 'codespace',\n",
       "  'model': 'xgboost'}>, info=<RunInfo: artifact_uri='/workspaces/mlops-zoomcamp/02-experiment-tracking/mlruns/1/d19fd36e19604d5db60b3bf88268c349/artifacts', end_time=1716705415600, experiment_id='1', lifecycle_stage='active', run_id='d19fd36e19604d5db60b3bf88268c349', run_name='mysterious-newt-857', run_uuid='d19fd36e19604d5db60b3bf88268c349', start_time=1716705288469, status='FINISHED', user_id='codespace'>, inputs=<RunInputs: dataset_inputs=[]>>]"
      ]
     },
     "execution_count": 5,
     "metadata": {},
     "output_type": "execute_result"
    }
   ],
   "source": [
    "runs"
   ]
  },
  {
   "cell_type": "code",
   "execution_count": 6,
   "id": "c54f8e93-f8a0-4571-b0b9-852ef8b4352a",
   "metadata": {},
   "outputs": [
    {
     "name": "stdout",
     "output_type": "stream",
     "text": [
      "run id: bd445d19e0294436bdf2d5092915bca8, rmse: 6.3167\n",
      "run id: dcb560dd39354958974be6a0b7e5f37a, rmse: 6.3167\n",
      "run id: 39a28b28d0da48798522ecb3715a5b28, rmse: 6.3167\n",
      "run id: a60b8295c8d54a9c89821e9ac82b18f7, rmse: 6.4179\n",
      "run id: d19fd36e19604d5db60b3bf88268c349, rmse: 6.4570\n"
     ]
    }
   ],
   "source": [
    "for run in runs:\n",
    "    print(f\"run id: {run.info.run_id}, rmse: {run.data.metrics['rmse']:.4f}\")"
   ]
  },
  {
   "cell_type": "code",
   "execution_count": 7,
   "id": "40ca4061-7ecd-455f-82db-15f46d6f629b",
   "metadata": {},
   "outputs": [
    {
     "data": {
      "text/plain": [
       "[<Run: data=<RunData: metrics={'rmse': 6.316686131714485}, params={'learning_rate': '0.21376651791094933',\n",
       "  'max_depth': '48',\n",
       "  'min_child_weight': '1.3498782970485983',\n",
       "  'objective': 'reg:linear',\n",
       "  'reg_alpha': '0.19695020158943471',\n",
       "  'reg_lambda': '0.02024920384027934',\n",
       "  'seed': '42'}, tags={'mlflow.log-model.history': '[{\"run_id\": \"bd445d19e0294436bdf2d5092915bca8\", '\n",
       "                              '\"artifact_path\": \"models_mlflow\", '\n",
       "                              '\"utc_time_created\": \"2024-05-27 '\n",
       "                              '12:45:37.047398\", \"flavors\": {\"python_function\": '\n",
       "                              '{\"loader_module\": \"mlflow.xgboost\", '\n",
       "                              '\"python_version\": \"3.9.19\", \"data\": \"model.xgb\", '\n",
       "                              '\"env\": {\"conda\": \"conda.yaml\", \"virtualenv\": '\n",
       "                              '\"python_env.yaml\"}}, \"xgboost\": {\"xgb_version\": '\n",
       "                              '\"2.0.3\", \"data\": \"model.xgb\", \"model_class\": '\n",
       "                              '\"xgboost.core.Booster\", \"model_format\": \"xgb\", '\n",
       "                              '\"code\": null}}, \"model_uuid\": '\n",
       "                              '\"91e3df3d4cd64f6ea2fcefa49a36cec4\", '\n",
       "                              '\"mlflow_version\": \"2.13.0\", \"model_size_bytes\": '\n",
       "                              '5085570}]',\n",
       "  'mlflow.runName': 'delightful-deer-936',\n",
       "  'mlflow.source.name': '/home/codespace/anaconda3/envs/exp-tracking-env/lib/python3.9/site-packages/ipykernel_launcher.py',\n",
       "  'mlflow.source.type': 'LOCAL',\n",
       "  'mlflow.user': 'codespace'}>, info=<RunInfo: artifact_uri='/workspaces/mlops-zoomcamp/02-experiment-tracking/mlruns/1/bd445d19e0294436bdf2d5092915bca8/artifacts', end_time=1716813939609, experiment_id='1', lifecycle_stage='active', run_id='bd445d19e0294436bdf2d5092915bca8', run_name='delightful-deer-936', run_uuid='bd445d19e0294436bdf2d5092915bca8', start_time=1716813882840, status='FINISHED', user_id='codespace'>, inputs=<RunInputs: dataset_inputs=[]>>,\n",
       " <Run: data=<RunData: metrics={'rmse': 6.316686131714485}, params={'learning_rate': '0.21376651791094933',\n",
       "  'max_depth': '48',\n",
       "  'min_child_weight': '1.3498782970485983',\n",
       "  'objective': 'reg:linear',\n",
       "  'reg_alpha': '0.19695020158943471',\n",
       "  'reg_lambda': '0.02024920384027934',\n",
       "  'seed': '42'}, tags={'mlflow.log-model.history': '[{\"run_id\": \"dcb560dd39354958974be6a0b7e5f37a\", '\n",
       "                              '\"artifact_path\": \"models_mlflow\", '\n",
       "                              '\"utc_time_created\": \"2024-05-27 '\n",
       "                              '09:34:57.945674\", \"flavors\": {\"python_function\": '\n",
       "                              '{\"loader_module\": \"mlflow.xgboost\", '\n",
       "                              '\"python_version\": \"3.9.19\", \"data\": \"model.xgb\", '\n",
       "                              '\"env\": {\"conda\": \"conda.yaml\", \"virtualenv\": '\n",
       "                              '\"python_env.yaml\"}}, \"xgboost\": {\"xgb_version\": '\n",
       "                              '\"2.0.3\", \"data\": \"model.xgb\", \"model_class\": '\n",
       "                              '\"xgboost.core.Booster\", \"model_format\": \"xgb\", '\n",
       "                              '\"code\": null}}, \"model_uuid\": '\n",
       "                              '\"c98e5e5a26564b748bffb75976c82f0c\", '\n",
       "                              '\"mlflow_version\": \"2.13.0\", \"model_size_bytes\": '\n",
       "                              '5085570}]',\n",
       "  'mlflow.runName': 'bald-crane-418',\n",
       "  'mlflow.source.name': '/home/codespace/anaconda3/envs/exp-tracking-env/lib/python3.9/site-packages/ipykernel_launcher.py',\n",
       "  'mlflow.source.type': 'LOCAL',\n",
       "  'mlflow.user': 'codespace'}>, info=<RunInfo: artifact_uri='/workspaces/mlops-zoomcamp/02-experiment-tracking/mlruns/1/dcb560dd39354958974be6a0b7e5f37a/artifacts', end_time=1716802500694, experiment_id='1', lifecycle_stage='active', run_id='dcb560dd39354958974be6a0b7e5f37a', run_name='bald-crane-418', run_uuid='dcb560dd39354958974be6a0b7e5f37a', start_time=1716802443171, status='FINISHED', user_id='codespace'>, inputs=<RunInputs: dataset_inputs=[]>>,\n",
       " <Run: data=<RunData: metrics={'rmse': 6.316686131714485}, params={'learning_rate': '0.21376651791094933',\n",
       "  'max_depth': '48',\n",
       "  'min_child_weight': '1.3498782970485983',\n",
       "  'objective': 'reg:linear',\n",
       "  'reg_alpha': '0.19695020158943471',\n",
       "  'reg_lambda': '0.02024920384027934',\n",
       "  'seed': '42'}, tags={'mlflow.runName': 'sincere-pig-802',\n",
       "  'mlflow.source.name': '/home/codespace/anaconda3/envs/exp-tracking-env/lib/python3.9/site-packages/ipykernel_launcher.py',\n",
       "  'mlflow.source.type': 'LOCAL',\n",
       "  'mlflow.user': 'codespace',\n",
       "  'model': 'xgboost'}>, info=<RunInfo: artifact_uri='/workspaces/mlops-zoomcamp/02-experiment-tracking/mlruns/1/39a28b28d0da48798522ecb3715a5b28/artifacts', end_time=1716705198663, experiment_id='1', lifecycle_stage='active', run_id='39a28b28d0da48798522ecb3715a5b28', run_name='sincere-pig-802', run_uuid='39a28b28d0da48798522ecb3715a5b28', start_time=1716705098892, status='FINISHED', user_id='codespace'>, inputs=<RunInputs: dataset_inputs=[]>>,\n",
       " <Run: data=<RunData: metrics={'rmse': 6.417884623943859}, params={'learning_rate': '0.8888809772309892',\n",
       "  'max_depth': '97',\n",
       "  'min_child_weight': '2.2296951025318625',\n",
       "  'objective': 'reg:linear',\n",
       "  'reg_alpha': '0.09172335056339005',\n",
       "  'reg_lambda': '0.023981852845147537',\n",
       "  'seed': '42'}, tags={'mlflow.runName': 'luminous-duck-257',\n",
       "  'mlflow.source.name': '/home/codespace/anaconda3/envs/exp-tracking-env/lib/python3.9/site-packages/ipykernel_launcher.py',\n",
       "  'mlflow.source.type': 'LOCAL',\n",
       "  'mlflow.user': 'codespace',\n",
       "  'model': 'xgboost'}>, info=<RunInfo: artifact_uri='/workspaces/mlops-zoomcamp/02-experiment-tracking/mlruns/1/a60b8295c8d54a9c89821e9ac82b18f7/artifacts', end_time=1716705238344, experiment_id='1', lifecycle_stage='active', run_id='a60b8295c8d54a9c89821e9ac82b18f7', run_name='luminous-duck-257', run_uuid='a60b8295c8d54a9c89821e9ac82b18f7', start_time=1716705198700, status='FINISHED', user_id='codespace'>, inputs=<RunInputs: dataset_inputs=[]>>,\n",
       " <Run: data=<RunData: metrics={'rmse': 6.457029176345168}, params={'learning_rate': '0.2876869543715332',\n",
       "  'max_depth': '96',\n",
       "  'min_child_weight': '0.5217303400070488',\n",
       "  'objective': 'reg:linear',\n",
       "  'reg_alpha': '0.044629144197108936',\n",
       "  'reg_lambda': '0.030008890346257127',\n",
       "  'seed': '42'}, tags={'mlflow.runName': 'mysterious-newt-857',\n",
       "  'mlflow.source.name': '/home/codespace/anaconda3/envs/exp-tracking-env/lib/python3.9/site-packages/ipykernel_launcher.py',\n",
       "  'mlflow.source.type': 'LOCAL',\n",
       "  'mlflow.user': 'codespace',\n",
       "  'model': 'xgboost'}>, info=<RunInfo: artifact_uri='/workspaces/mlops-zoomcamp/02-experiment-tracking/mlruns/1/d19fd36e19604d5db60b3bf88268c349/artifacts', end_time=1716705415600, experiment_id='1', lifecycle_stage='active', run_id='d19fd36e19604d5db60b3bf88268c349', run_name='mysterious-newt-857', run_uuid='d19fd36e19604d5db60b3bf88268c349', start_time=1716705288469, status='FINISHED', user_id='codespace'>, inputs=<RunInputs: dataset_inputs=[]>>]"
      ]
     },
     "execution_count": 7,
     "metadata": {},
     "output_type": "execute_result"
    }
   ],
   "source": [
    "runs  = client.search_runs(experiment_ids=\"1\", filter_string=\"metrics.rmse < 6.8\", run_view_type=ViewType.ACTIVE_ONLY,\n",
    "                          max_results=5, order_by=[\"metrics.rmse ASC\"])\n",
    "runs"
   ]
  },
  {
   "cell_type": "code",
   "execution_count": 8,
   "id": "1b9d89d8-4c7d-47f1-a233-247e7edc6d0f",
   "metadata": {},
   "outputs": [
    {
     "name": "stdout",
     "output_type": "stream",
     "text": [
      "run id: bd445d19e0294436bdf2d5092915bca8, rmse: 6.3167\n",
      "run id: dcb560dd39354958974be6a0b7e5f37a, rmse: 6.3167\n",
      "run id: 39a28b28d0da48798522ecb3715a5b28, rmse: 6.3167\n",
      "run id: a60b8295c8d54a9c89821e9ac82b18f7, rmse: 6.4179\n",
      "run id: d19fd36e19604d5db60b3bf88268c349, rmse: 6.4570\n"
     ]
    }
   ],
   "source": [
    "for run in runs:\n",
    "    print(f\"run id: {run.info.run_id}, rmse: {run.data.metrics['rmse']:.4f}\")"
   ]
  },
  {
   "cell_type": "code",
   "execution_count": null,
   "id": "586774b1-2b02-4ec5-895c-336a1ad2f1f1",
   "metadata": {},
   "outputs": [],
   "source": []
  },
  {
   "cell_type": "code",
   "execution_count": 9,
   "id": "61136249-4b63-45b7-a8d1-229ef0ac1e56",
   "metadata": {},
   "outputs": [],
   "source": [
    "import mlflow"
   ]
  },
  {
   "cell_type": "code",
   "execution_count": 10,
   "id": "e1b20eba-d08c-4fb2-943d-49bb0d4be5d8",
   "metadata": {},
   "outputs": [],
   "source": [
    "mlflow.set_tracking_uri(MLFLOW_TRACKING_URI)"
   ]
  },
  {
   "cell_type": "code",
   "execution_count": 11,
   "id": "e49be540-32be-49fc-868d-285469bce700",
   "metadata": {},
   "outputs": [
    {
     "name": "stderr",
     "output_type": "stream",
     "text": [
      "Registered model 'nyc-taxi-regressor' already exists. Creating a new version of this model...\n",
      "Created version '7' of model 'nyc-taxi-regressor'.\n"
     ]
    },
    {
     "data": {
      "text/plain": [
       "<ModelVersion: aliases=[], creation_timestamp=1717403406585, current_stage='None', description=None, last_updated_timestamp=1717403406585, name='nyc-taxi-regressor', run_id='bd445d19e0294436bdf2d5092915bca8', run_link=None, source='/workspaces/mlops-zoomcamp/02-experiment-tracking/mlruns/1/bd445d19e0294436bdf2d5092915bca8/artifacts/model', status='READY', status_message=None, tags={}, user_id=None, version=7>"
      ]
     },
     "execution_count": 11,
     "metadata": {},
     "output_type": "execute_result"
    }
   ],
   "source": [
    "run_id = \"bd445d19e0294436bdf2d5092915bca8\"\n",
    "model_uri = f\"runs:/{run_id}/model\"\n",
    "mlflow.register_model(model_uri=model_uri, name=\"nyc-taxi-regressor\")"
   ]
  },
  {
   "cell_type": "code",
   "execution_count": null,
   "id": "c5921029-66af-4ab0-9b8b-acd9b5f88749",
   "metadata": {},
   "outputs": [],
   "source": []
  },
  {
   "cell_type": "code",
   "execution_count": 12,
   "id": "b43f345d-312d-48bb-ae13-4688c5181980",
   "metadata": {},
   "outputs": [
    {
     "data": {
      "text/plain": [
       "[<RegisteredModel: aliases={}, creation_timestamp=1717341617591, description='The NYC Taxi Predictor for Trip Duration', last_updated_timestamp=1717403406585, latest_versions=[<ModelVersion: aliases=[], creation_timestamp=1717343518156, current_stage='Staging', description='The model version 3 was transitioned to Staging on 2024-06-02', last_updated_timestamp=1717351981433, name='nyc-taxi-regressor', run_id='dcb560dd39354958974be6a0b7e5f37a', run_link=None, source='/workspaces/mlops-zoomcamp/02-experiment-tracking/mlruns/1/dcb560dd39354958974be6a0b7e5f37a/artifacts/model', status='READY', status_message=None, tags={}, user_id=None, version=3>,\n",
       "  <ModelVersion: aliases=[], creation_timestamp=1717403406585, current_stage='None', description=None, last_updated_timestamp=1717403406585, name='nyc-taxi-regressor', run_id='bd445d19e0294436bdf2d5092915bca8', run_link=None, source='/workspaces/mlops-zoomcamp/02-experiment-tracking/mlruns/1/bd445d19e0294436bdf2d5092915bca8/artifacts/model', status='READY', status_message=None, tags={}, user_id=None, version=7>], name='nyc-taxi-regressor', tags={}>]"
      ]
     },
     "execution_count": 12,
     "metadata": {},
     "output_type": "execute_result"
    }
   ],
   "source": [
    "client.search_registered_models()"
   ]
  },
  {
   "cell_type": "code",
   "execution_count": 13,
   "id": "fac66123-60b1-4aff-a4e5-7cd94f6b8d42",
   "metadata": {},
   "outputs": [
    {
     "name": "stdout",
     "output_type": "stream",
     "text": [
      "version: 3, stage: Staging\n",
      "version: 7, stage: None\n"
     ]
    },
    {
     "name": "stderr",
     "output_type": "stream",
     "text": [
      "/tmp/ipykernel_4859/669935608.py:2: FutureWarning: ``mlflow.tracking.client.MlflowClient.get_latest_versions`` is deprecated since 2.9.0. Model registry stages will be removed in a future major release. To learn more about the deprecation of model registry stages, see our migration guide here: https://mlflow.org/docs/2.13.0/model-registry.html#migrating-from-stages\n",
      "  latest_versions = client.get_latest_versions(name=model_name)\n"
     ]
    }
   ],
   "source": [
    "model_name = \"nyc-taxi-regressor\"\n",
    "latest_versions = client.get_latest_versions(name=model_name)\n",
    "\n",
    "for version in latest_versions:\n",
    "    print(f\"version: {version.version}, stage: {version.current_stage}\")"
   ]
  },
  {
   "cell_type": "code",
   "execution_count": 41,
   "id": "decb6163-0e31-4af7-9b40-c607a00f3c95",
   "metadata": {},
   "outputs": [],
   "source": [
    "# Old Version\n",
    "model_version = 1\n",
    "# new_stage = \"Staging\"\n",
    "\n",
    "# client.transition_model_version_stage(name=model_name, version=model_version, stage=new_stage, archive_existing_versions=False)\n",
    "\n",
    "# New Version\n",
    "client.set_registered_model_alias(model_name, \"version3\", model_version)"
   ]
  },
  {
   "cell_type": "code",
   "execution_count": 42,
   "id": "ef443cae-0bdd-4370-920f-2c40314fb96f",
   "metadata": {},
   "outputs": [],
   "source": [
    "# New Version\n",
    "new_stage = \"Staging\"\n",
    "client.set_model_version_tag(name=model_name, version=model_version, key=\"Stage\", value=new_stage)"
   ]
  },
  {
   "cell_type": "code",
   "execution_count": 43,
   "id": "9579356e-20f7-4dae-819c-6d9a99de6e96",
   "metadata": {},
   "outputs": [
    {
     "data": {
      "text/plain": [
       "<ModelVersion: aliases=['version3'], creation_timestamp=1717341617720, current_stage='Staging', description='The model version 1 was transitioned to Staging on 2024-06-03', last_updated_timestamp=1717405008541, name='nyc-taxi-regressor', run_id='bd445d19e0294436bdf2d5092915bca8', run_link='', source='/workspaces/mlops-zoomcamp/02-experiment-tracking/mlruns/1/bd445d19e0294436bdf2d5092915bca8/artifacts/models_mlflow', status='READY', status_message=None, tags={'Stage': 'Staging', 'model': 'xgboost'}, user_id=None, version=1>"
      ]
     },
     "execution_count": 43,
     "metadata": {},
     "output_type": "execute_result"
    }
   ],
   "source": [
    "from datetime import datetime\n",
    "date = datetime.today().date()\n",
    "\n",
    "client.update_model_version(name=model_name, version=model_version, \n",
    "                           description=f\"The model version {model_version} was transitioned to {new_stage} on {date}\")"
   ]
  },
  {
   "cell_type": "code",
   "execution_count": 59,
   "id": "0b2c9fd2-c854-4322-b0dc-9b0651adce4e",
   "metadata": {},
   "outputs": [],
   "source": [
    "from sklearn.metrics import mean_squared_error\n",
    "import pandas as pd\n",
    "import numpy as np\n",
    "\n",
    "\n",
    "def read_dataframe(filename):\n",
    "    df = pd.read_parquet(filename)\n",
    "\n",
    "    # df.lpep_dropoff_datetime = pd.to_datetime(df.lpep_dropoff_datetime)\n",
    "    # df.lpep_pickup_datetime = pd.to_datetime(df.lpep_pickup_datetime)\n",
    "\n",
    "    df['duration'] = df.lpep_dropoff_datetime - df.lpep_pickup_datetime\n",
    "    df.duration = df.duration.apply(lambda td: td.total_seconds() / 60)\n",
    "\n",
    "    df = df[(df.duration >= 1) & (df.duration <= 60)]\n",
    "\n",
    "    categorical = ['PULocationID', 'DOLocationID']\n",
    "    df[categorical] = df[categorical].astype(str)\n",
    "    \n",
    "    return df\n",
    "\n",
    "\n",
    "def preprocess(df, dv):\n",
    "    df['PU_DO'] = df['PULocationID'] + '_' + df['DOLocationID']\n",
    "    categorical = ['PU_DO']\n",
    "    numerical = ['trip_distance']\n",
    "    train_dicts = df[categorical + numerical].to_dict(orient='records')\n",
    "    return dv.transform(train_dicts)\n",
    "\n",
    "# Old Version\n",
    "# def test_model(name, stage, X_test, y_test):\n",
    "#     model = mlflow.pyfunc.load_model(f\"models:/{name}/{stage}\")\n",
    "#     y_pred = model.predict(X_test)\n",
    "#     return {\"rmse\": mean_squared_error(y_test, y_pred, squared=False)}\n",
    "# def test_model(run_id, X_test, y_test):\n",
    "#     model = mlflow.pyfunc.load_model(f\"runs:/{run_id}/models_mlflow\")\n",
    "#     y_pred = model.predict(X_test)\n",
    "#     return {\"rmse\": mean_squared_error(y_test, y_pred, squared=False)}\n",
    "\n",
    "# New Version\n",
    "def test_model(name, version, X_test, y_test):\n",
    "    model = mlflow.pyfunc.load_model(f\"models:/{name}/{version}\")\n",
    "    y_pred = model.predict(X_test)\n",
    "    return {\"rmse\": np.sqrt(mean_squared_error(y_test, y_pred))}"
   ]
  },
  {
   "cell_type": "code",
   "execution_count": 72,
   "id": "d0984fdf-bdc6-4bdd-8b97-696031dcddde",
   "metadata": {},
   "outputs": [],
   "source": [
    "df = read_dataframe(\"data/green_tripdata_2021-01.parquet\")"
   ]
  },
  {
   "cell_type": "code",
   "execution_count": 73,
   "id": "52c072ef-9ac5-4df6-9104-1c59cbb72150",
   "metadata": {},
   "outputs": [
    {
     "data": {
      "application/vnd.jupyter.widget-view+json": {
       "model_id": "ca03612ba3d44e958d47059671ebd261",
       "version_major": 2,
       "version_minor": 0
      },
      "text/plain": [
       "Downloading artifacts:   0%|          | 0/1 [00:00<?, ?it/s]"
      ]
     },
     "metadata": {},
     "output_type": "display_data"
    },
    {
     "data": {
      "text/plain": [
       "'/workspaces/mlops-zoomcamp/02-experiment-tracking/preprocessor'"
      ]
     },
     "execution_count": 73,
     "metadata": {},
     "output_type": "execute_result"
    }
   ],
   "source": [
    "client.download_artifacts(run_id=run_id, path=\"preprocessor\", dst_path=\".\")"
   ]
  },
  {
   "cell_type": "code",
   "execution_count": 74,
   "id": "aa2bb8b5-4c3c-45a9-9986-4a30b7cb2567",
   "metadata": {},
   "outputs": [],
   "source": [
    "import pickle\n",
    "\n",
    "with open(\"preprocessor/preprocessor.b\", \"rb\") as f_in:\n",
    "    dv = pickle.load(f_in)"
   ]
  },
  {
   "cell_type": "code",
   "execution_count": 75,
   "id": "9da06e5f-7b6c-4857-becb-318c6e7b65d4",
   "metadata": {},
   "outputs": [],
   "source": [
    "X_test = preprocess(df, dv)"
   ]
  },
  {
   "cell_type": "code",
   "execution_count": 76,
   "id": "1001ed92-a21f-4f7a-b2c5-61886facf297",
   "metadata": {},
   "outputs": [],
   "source": [
    "target = \"duration\"\n",
    "y_test = df[target].values"
   ]
  },
  {
   "cell_type": "code",
   "execution_count": 77,
   "id": "bc85345d-ee4a-4597-8db5-8849c0522561",
   "metadata": {},
   "outputs": [
    {
     "name": "stderr",
     "output_type": "stream",
     "text": [
      "/home/codespace/anaconda3/envs/exp-tracking-env/lib/python3.9/site-packages/xgboost/core.py:160: UserWarning: [09:03:00] WARNING: /workspace/src/objective/regression_obj.cu:209: reg:linear is now deprecated in favor of reg:squarederror.\n",
      "  warnings.warn(smsg, UserWarning)\n"
     ]
    },
    {
     "name": "stdout",
     "output_type": "stream",
     "text": [
      "CPU times: user 8.33 s, sys: 11.4 ms, total: 8.35 s\n",
      "Wall time: 2.18 s\n"
     ]
    },
    {
     "data": {
      "text/plain": [
       "{'rmse': 4.251524995145835}"
      ]
     },
     "execution_count": 77,
     "metadata": {},
     "output_type": "execute_result"
    }
   ],
   "source": [
    "# Old Version\n",
    "# %time test_model(name=model_name, stage=\"Production\", X_test=X_test, y_test=y_test)\n",
    "# %time test_model(run_id=run_id, X_test=X_test, y_test=y_test)\n",
    "\n",
    "# New Version\n",
    "%time test_model(name=model_name, version=1, X_test=X_test, y_test=y_test)"
   ]
  },
  {
   "cell_type": "code",
   "execution_count": 78,
   "id": "a90f505a-4a92-426b-b7fa-a7849f7656bc",
   "metadata": {},
   "outputs": [
    {
     "name": "stderr",
     "output_type": "stream",
     "text": [
      "/tmp/ipykernel_4859/634613408.py:1: FutureWarning: ``mlflow.tracking.client.MlflowClient.transition_model_version_stage`` is deprecated since 2.9.0. Model registry stages will be removed in a future major release. To learn more about the deprecation of model registry stages, see our migration guide here: https://mlflow.org/docs/2.13.0/model-registry.html#migrating-from-stages\n",
      "  client.transition_model_version_stage(name=model_name, version=model_version, stage=\"Production\", archive_existing_versions=False)\n"
     ]
    },
    {
     "data": {
      "text/plain": [
       "<ModelVersion: aliases=['version3'], creation_timestamp=1717341617720, current_stage='Production', description='The model version 1 was transitioned to Staging on 2024-06-03', last_updated_timestamp=1717405395555, name='nyc-taxi-regressor', run_id='bd445d19e0294436bdf2d5092915bca8', run_link='', source='/workspaces/mlops-zoomcamp/02-experiment-tracking/mlruns/1/bd445d19e0294436bdf2d5092915bca8/artifacts/models_mlflow', status='READY', status_message=None, tags={'Stage': 'Staging', 'model': 'xgboost'}, user_id=None, version=1>"
      ]
     },
     "execution_count": 78,
     "metadata": {},
     "output_type": "execute_result"
    }
   ],
   "source": [
    "client.transition_model_version_stage(name=model_name, version=model_version, stage=\"Production\", archive_existing_versions=False)"
   ]
  },
  {
   "cell_type": "code",
   "execution_count": null,
   "id": "f05caa12-e50d-441d-9c73-0ee59f0cbc9f",
   "metadata": {},
   "outputs": [],
   "source": []
  }
 ],
 "metadata": {
  "kernelspec": {
   "display_name": "Python 3 (ipykernel)",
   "language": "python",
   "name": "python3"
  },
  "language_info": {
   "codemirror_mode": {
    "name": "ipython",
    "version": 3
   },
   "file_extension": ".py",
   "mimetype": "text/x-python",
   "name": "python",
   "nbconvert_exporter": "python",
   "pygments_lexer": "ipython3",
   "version": "3.9.19"
  }
 },
 "nbformat": 4,
 "nbformat_minor": 5
}
