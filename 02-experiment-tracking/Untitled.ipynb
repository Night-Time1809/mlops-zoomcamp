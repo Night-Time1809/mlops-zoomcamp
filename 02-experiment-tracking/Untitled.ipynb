{
 "cells": [
  {
   "cell_type": "code",
   "execution_count": 1,
   "id": "e6a1d6d7-42d0-4f9e-be61-cfe7f04e25d1",
   "metadata": {},
   "outputs": [],
   "source": [
    "from mlflow.tracking import MlflowClient"
   ]
  },
  {
   "cell_type": "code",
   "execution_count": 3,
   "id": "49ec8147-fffd-4cee-a6a4-167ea551e715",
   "metadata": {},
   "outputs": [],
   "source": [
    "MLFLOW_TRACKING_URI = \"sqlite:///mlflow.db\"\n",
    "\n",
    "client = MlflowClient(tracking_uri=MLFLOW_TRACKING_URI)"
   ]
  },
  {
   "cell_type": "code",
   "execution_count": 6,
   "id": "ac05df57-9c55-4b0d-b165-e3cc09296b89",
   "metadata": {},
   "outputs": [
    {
     "data": {
      "text/plain": [
       "[<Experiment: artifact_location='/workspaces/mlops-zoomcamp/02-experiment-tracking/mlruns/1', creation_time=1716700742592, experiment_id='1', last_update_time=1716700742592, lifecycle_stage='active', name='nyc-taxi-experiment', tags={}>,\n",
       " <Experiment: artifact_location='mlflow-artifacts:/0', creation_time=1716700213361, experiment_id='0', last_update_time=1716700213361, lifecycle_stage='active', name='Default', tags={}>]"
      ]
     },
     "execution_count": 6,
     "metadata": {},
     "output_type": "execute_result"
    }
   ],
   "source": [
    "client.search_experiments()"
   ]
  },
  {
   "cell_type": "code",
   "execution_count": 7,
   "id": "0d999278-af0f-45b8-9477-2a80da8e56bf",
   "metadata": {},
   "outputs": [
    {
     "data": {
      "text/plain": [
       "'2'"
      ]
     },
     "execution_count": 7,
     "metadata": {},
     "output_type": "execute_result"
    }
   ],
   "source": [
    "client.create_experiment(name=\"my-cool-experiment\")"
   ]
  },
  {
   "cell_type": "code",
   "execution_count": 9,
   "id": "1e9aec04-fd84-41b2-b190-d6bd905f8204",
   "metadata": {},
   "outputs": [],
   "source": [
    "from mlflow.entities import ViewType\n",
    "\n",
    "runs  = client.search_runs(experiment_ids=\"1\", filter_string=\"\", run_view_type=ViewType.ACTIVE_ONLY,\n",
    "                          max_results=5, order_by=[\"metrics.rmse ASC\"])"
   ]
  },
  {
   "cell_type": "code",
   "execution_count": 10,
   "id": "16838a13-3c16-4819-be55-a04d142a57de",
   "metadata": {},
   "outputs": [
    {
     "data": {
      "text/plain": [
       "[<Run: data=<RunData: metrics={'rmse': 6.316686131714485}, params={'learning_rate': '0.21376651791094933',\n",
       "  'max_depth': '48',\n",
       "  'min_child_weight': '1.3498782970485983',\n",
       "  'objective': 'reg:linear',\n",
       "  'reg_alpha': '0.19695020158943471',\n",
       "  'reg_lambda': '0.02024920384027934',\n",
       "  'seed': '42'}, tags={'mlflow.log-model.history': '[{\"run_id\": \"bd445d19e0294436bdf2d5092915bca8\", '\n",
       "                              '\"artifact_path\": \"models_mlflow\", '\n",
       "                              '\"utc_time_created\": \"2024-05-27 '\n",
       "                              '12:45:37.047398\", \"flavors\": {\"python_function\": '\n",
       "                              '{\"loader_module\": \"mlflow.xgboost\", '\n",
       "                              '\"python_version\": \"3.9.19\", \"data\": \"model.xgb\", '\n",
       "                              '\"env\": {\"conda\": \"conda.yaml\", \"virtualenv\": '\n",
       "                              '\"python_env.yaml\"}}, \"xgboost\": {\"xgb_version\": '\n",
       "                              '\"2.0.3\", \"data\": \"model.xgb\", \"model_class\": '\n",
       "                              '\"xgboost.core.Booster\", \"model_format\": \"xgb\", '\n",
       "                              '\"code\": null}}, \"model_uuid\": '\n",
       "                              '\"91e3df3d4cd64f6ea2fcefa49a36cec4\", '\n",
       "                              '\"mlflow_version\": \"2.13.0\", \"model_size_bytes\": '\n",
       "                              '5085570}]',\n",
       "  'mlflow.runName': 'delightful-deer-936',\n",
       "  'mlflow.source.name': '/home/codespace/anaconda3/envs/exp-tracking-env/lib/python3.9/site-packages/ipykernel_launcher.py',\n",
       "  'mlflow.source.type': 'LOCAL',\n",
       "  'mlflow.user': 'codespace'}>, info=<RunInfo: artifact_uri='/workspaces/mlops-zoomcamp/02-experiment-tracking/mlruns/1/bd445d19e0294436bdf2d5092915bca8/artifacts', end_time=1716813939609, experiment_id='1', lifecycle_stage='active', run_id='bd445d19e0294436bdf2d5092915bca8', run_name='delightful-deer-936', run_uuid='bd445d19e0294436bdf2d5092915bca8', start_time=1716813882840, status='FINISHED', user_id='codespace'>, inputs=<RunInputs: dataset_inputs=[]>>,\n",
       " <Run: data=<RunData: metrics={'rmse': 6.316686131714485}, params={'learning_rate': '0.21376651791094933',\n",
       "  'max_depth': '48',\n",
       "  'min_child_weight': '1.3498782970485983',\n",
       "  'objective': 'reg:linear',\n",
       "  'reg_alpha': '0.19695020158943471',\n",
       "  'reg_lambda': '0.02024920384027934',\n",
       "  'seed': '42'}, tags={'mlflow.log-model.history': '[{\"run_id\": \"dcb560dd39354958974be6a0b7e5f37a\", '\n",
       "                              '\"artifact_path\": \"models_mlflow\", '\n",
       "                              '\"utc_time_created\": \"2024-05-27 '\n",
       "                              '09:34:57.945674\", \"flavors\": {\"python_function\": '\n",
       "                              '{\"loader_module\": \"mlflow.xgboost\", '\n",
       "                              '\"python_version\": \"3.9.19\", \"data\": \"model.xgb\", '\n",
       "                              '\"env\": {\"conda\": \"conda.yaml\", \"virtualenv\": '\n",
       "                              '\"python_env.yaml\"}}, \"xgboost\": {\"xgb_version\": '\n",
       "                              '\"2.0.3\", \"data\": \"model.xgb\", \"model_class\": '\n",
       "                              '\"xgboost.core.Booster\", \"model_format\": \"xgb\", '\n",
       "                              '\"code\": null}}, \"model_uuid\": '\n",
       "                              '\"c98e5e5a26564b748bffb75976c82f0c\", '\n",
       "                              '\"mlflow_version\": \"2.13.0\", \"model_size_bytes\": '\n",
       "                              '5085570}]',\n",
       "  'mlflow.runName': 'bald-crane-418',\n",
       "  'mlflow.source.name': '/home/codespace/anaconda3/envs/exp-tracking-env/lib/python3.9/site-packages/ipykernel_launcher.py',\n",
       "  'mlflow.source.type': 'LOCAL',\n",
       "  'mlflow.user': 'codespace'}>, info=<RunInfo: artifact_uri='/workspaces/mlops-zoomcamp/02-experiment-tracking/mlruns/1/dcb560dd39354958974be6a0b7e5f37a/artifacts', end_time=1716802500694, experiment_id='1', lifecycle_stage='active', run_id='dcb560dd39354958974be6a0b7e5f37a', run_name='bald-crane-418', run_uuid='dcb560dd39354958974be6a0b7e5f37a', start_time=1716802443171, status='FINISHED', user_id='codespace'>, inputs=<RunInputs: dataset_inputs=[]>>,\n",
       " <Run: data=<RunData: metrics={'rmse': 6.316686131714485}, params={'learning_rate': '0.21376651791094933',\n",
       "  'max_depth': '48',\n",
       "  'min_child_weight': '1.3498782970485983',\n",
       "  'objective': 'reg:linear',\n",
       "  'reg_alpha': '0.19695020158943471',\n",
       "  'reg_lambda': '0.02024920384027934',\n",
       "  'seed': '42'}, tags={'mlflow.runName': 'sincere-pig-802',\n",
       "  'mlflow.source.name': '/home/codespace/anaconda3/envs/exp-tracking-env/lib/python3.9/site-packages/ipykernel_launcher.py',\n",
       "  'mlflow.source.type': 'LOCAL',\n",
       "  'mlflow.user': 'codespace',\n",
       "  'model': 'xgboost'}>, info=<RunInfo: artifact_uri='/workspaces/mlops-zoomcamp/02-experiment-tracking/mlruns/1/39a28b28d0da48798522ecb3715a5b28/artifacts', end_time=1716705198663, experiment_id='1', lifecycle_stage='active', run_id='39a28b28d0da48798522ecb3715a5b28', run_name='sincere-pig-802', run_uuid='39a28b28d0da48798522ecb3715a5b28', start_time=1716705098892, status='FINISHED', user_id='codespace'>, inputs=<RunInputs: dataset_inputs=[]>>,\n",
       " <Run: data=<RunData: metrics={'rmse': 6.417884623943859}, params={'learning_rate': '0.8888809772309892',\n",
       "  'max_depth': '97',\n",
       "  'min_child_weight': '2.2296951025318625',\n",
       "  'objective': 'reg:linear',\n",
       "  'reg_alpha': '0.09172335056339005',\n",
       "  'reg_lambda': '0.023981852845147537',\n",
       "  'seed': '42'}, tags={'mlflow.runName': 'luminous-duck-257',\n",
       "  'mlflow.source.name': '/home/codespace/anaconda3/envs/exp-tracking-env/lib/python3.9/site-packages/ipykernel_launcher.py',\n",
       "  'mlflow.source.type': 'LOCAL',\n",
       "  'mlflow.user': 'codespace',\n",
       "  'model': 'xgboost'}>, info=<RunInfo: artifact_uri='/workspaces/mlops-zoomcamp/02-experiment-tracking/mlruns/1/a60b8295c8d54a9c89821e9ac82b18f7/artifacts', end_time=1716705238344, experiment_id='1', lifecycle_stage='active', run_id='a60b8295c8d54a9c89821e9ac82b18f7', run_name='luminous-duck-257', run_uuid='a60b8295c8d54a9c89821e9ac82b18f7', start_time=1716705198700, status='FINISHED', user_id='codespace'>, inputs=<RunInputs: dataset_inputs=[]>>,\n",
       " <Run: data=<RunData: metrics={'rmse': 6.457029176345168}, params={'learning_rate': '0.2876869543715332',\n",
       "  'max_depth': '96',\n",
       "  'min_child_weight': '0.5217303400070488',\n",
       "  'objective': 'reg:linear',\n",
       "  'reg_alpha': '0.044629144197108936',\n",
       "  'reg_lambda': '0.030008890346257127',\n",
       "  'seed': '42'}, tags={'mlflow.runName': 'mysterious-newt-857',\n",
       "  'mlflow.source.name': '/home/codespace/anaconda3/envs/exp-tracking-env/lib/python3.9/site-packages/ipykernel_launcher.py',\n",
       "  'mlflow.source.type': 'LOCAL',\n",
       "  'mlflow.user': 'codespace',\n",
       "  'model': 'xgboost'}>, info=<RunInfo: artifact_uri='/workspaces/mlops-zoomcamp/02-experiment-tracking/mlruns/1/d19fd36e19604d5db60b3bf88268c349/artifacts', end_time=1716705415600, experiment_id='1', lifecycle_stage='active', run_id='d19fd36e19604d5db60b3bf88268c349', run_name='mysterious-newt-857', run_uuid='d19fd36e19604d5db60b3bf88268c349', start_time=1716705288469, status='FINISHED', user_id='codespace'>, inputs=<RunInputs: dataset_inputs=[]>>]"
      ]
     },
     "execution_count": 10,
     "metadata": {},
     "output_type": "execute_result"
    }
   ],
   "source": [
    "runs"
   ]
  },
  {
   "cell_type": "code",
   "execution_count": 11,
   "id": "c54f8e93-f8a0-4571-b0b9-852ef8b4352a",
   "metadata": {},
   "outputs": [
    {
     "name": "stdout",
     "output_type": "stream",
     "text": [
      "run id: bd445d19e0294436bdf2d5092915bca8, rmse: 6.3167\n",
      "run id: dcb560dd39354958974be6a0b7e5f37a, rmse: 6.3167\n",
      "run id: 39a28b28d0da48798522ecb3715a5b28, rmse: 6.3167\n",
      "run id: a60b8295c8d54a9c89821e9ac82b18f7, rmse: 6.4179\n",
      "run id: d19fd36e19604d5db60b3bf88268c349, rmse: 6.4570\n"
     ]
    }
   ],
   "source": [
    "for run in runs:\n",
    "    print(f\"run id: {run.info.run_id}, rmse: {run.data.metrics['rmse']:.4f}\")"
   ]
  },
  {
   "cell_type": "code",
   "execution_count": 12,
   "id": "40ca4061-7ecd-455f-82db-15f46d6f629b",
   "metadata": {},
   "outputs": [
    {
     "data": {
      "text/plain": [
       "[<Run: data=<RunData: metrics={'rmse': 6.316686131714485}, params={'learning_rate': '0.21376651791094933',\n",
       "  'max_depth': '48',\n",
       "  'min_child_weight': '1.3498782970485983',\n",
       "  'objective': 'reg:linear',\n",
       "  'reg_alpha': '0.19695020158943471',\n",
       "  'reg_lambda': '0.02024920384027934',\n",
       "  'seed': '42'}, tags={'mlflow.log-model.history': '[{\"run_id\": \"bd445d19e0294436bdf2d5092915bca8\", '\n",
       "                              '\"artifact_path\": \"models_mlflow\", '\n",
       "                              '\"utc_time_created\": \"2024-05-27 '\n",
       "                              '12:45:37.047398\", \"flavors\": {\"python_function\": '\n",
       "                              '{\"loader_module\": \"mlflow.xgboost\", '\n",
       "                              '\"python_version\": \"3.9.19\", \"data\": \"model.xgb\", '\n",
       "                              '\"env\": {\"conda\": \"conda.yaml\", \"virtualenv\": '\n",
       "                              '\"python_env.yaml\"}}, \"xgboost\": {\"xgb_version\": '\n",
       "                              '\"2.0.3\", \"data\": \"model.xgb\", \"model_class\": '\n",
       "                              '\"xgboost.core.Booster\", \"model_format\": \"xgb\", '\n",
       "                              '\"code\": null}}, \"model_uuid\": '\n",
       "                              '\"91e3df3d4cd64f6ea2fcefa49a36cec4\", '\n",
       "                              '\"mlflow_version\": \"2.13.0\", \"model_size_bytes\": '\n",
       "                              '5085570}]',\n",
       "  'mlflow.runName': 'delightful-deer-936',\n",
       "  'mlflow.source.name': '/home/codespace/anaconda3/envs/exp-tracking-env/lib/python3.9/site-packages/ipykernel_launcher.py',\n",
       "  'mlflow.source.type': 'LOCAL',\n",
       "  'mlflow.user': 'codespace'}>, info=<RunInfo: artifact_uri='/workspaces/mlops-zoomcamp/02-experiment-tracking/mlruns/1/bd445d19e0294436bdf2d5092915bca8/artifacts', end_time=1716813939609, experiment_id='1', lifecycle_stage='active', run_id='bd445d19e0294436bdf2d5092915bca8', run_name='delightful-deer-936', run_uuid='bd445d19e0294436bdf2d5092915bca8', start_time=1716813882840, status='FINISHED', user_id='codespace'>, inputs=<RunInputs: dataset_inputs=[]>>,\n",
       " <Run: data=<RunData: metrics={'rmse': 6.316686131714485}, params={'learning_rate': '0.21376651791094933',\n",
       "  'max_depth': '48',\n",
       "  'min_child_weight': '1.3498782970485983',\n",
       "  'objective': 'reg:linear',\n",
       "  'reg_alpha': '0.19695020158943471',\n",
       "  'reg_lambda': '0.02024920384027934',\n",
       "  'seed': '42'}, tags={'mlflow.log-model.history': '[{\"run_id\": \"dcb560dd39354958974be6a0b7e5f37a\", '\n",
       "                              '\"artifact_path\": \"models_mlflow\", '\n",
       "                              '\"utc_time_created\": \"2024-05-27 '\n",
       "                              '09:34:57.945674\", \"flavors\": {\"python_function\": '\n",
       "                              '{\"loader_module\": \"mlflow.xgboost\", '\n",
       "                              '\"python_version\": \"3.9.19\", \"data\": \"model.xgb\", '\n",
       "                              '\"env\": {\"conda\": \"conda.yaml\", \"virtualenv\": '\n",
       "                              '\"python_env.yaml\"}}, \"xgboost\": {\"xgb_version\": '\n",
       "                              '\"2.0.3\", \"data\": \"model.xgb\", \"model_class\": '\n",
       "                              '\"xgboost.core.Booster\", \"model_format\": \"xgb\", '\n",
       "                              '\"code\": null}}, \"model_uuid\": '\n",
       "                              '\"c98e5e5a26564b748bffb75976c82f0c\", '\n",
       "                              '\"mlflow_version\": \"2.13.0\", \"model_size_bytes\": '\n",
       "                              '5085570}]',\n",
       "  'mlflow.runName': 'bald-crane-418',\n",
       "  'mlflow.source.name': '/home/codespace/anaconda3/envs/exp-tracking-env/lib/python3.9/site-packages/ipykernel_launcher.py',\n",
       "  'mlflow.source.type': 'LOCAL',\n",
       "  'mlflow.user': 'codespace'}>, info=<RunInfo: artifact_uri='/workspaces/mlops-zoomcamp/02-experiment-tracking/mlruns/1/dcb560dd39354958974be6a0b7e5f37a/artifacts', end_time=1716802500694, experiment_id='1', lifecycle_stage='active', run_id='dcb560dd39354958974be6a0b7e5f37a', run_name='bald-crane-418', run_uuid='dcb560dd39354958974be6a0b7e5f37a', start_time=1716802443171, status='FINISHED', user_id='codespace'>, inputs=<RunInputs: dataset_inputs=[]>>,\n",
       " <Run: data=<RunData: metrics={'rmse': 6.316686131714485}, params={'learning_rate': '0.21376651791094933',\n",
       "  'max_depth': '48',\n",
       "  'min_child_weight': '1.3498782970485983',\n",
       "  'objective': 'reg:linear',\n",
       "  'reg_alpha': '0.19695020158943471',\n",
       "  'reg_lambda': '0.02024920384027934',\n",
       "  'seed': '42'}, tags={'mlflow.runName': 'sincere-pig-802',\n",
       "  'mlflow.source.name': '/home/codespace/anaconda3/envs/exp-tracking-env/lib/python3.9/site-packages/ipykernel_launcher.py',\n",
       "  'mlflow.source.type': 'LOCAL',\n",
       "  'mlflow.user': 'codespace',\n",
       "  'model': 'xgboost'}>, info=<RunInfo: artifact_uri='/workspaces/mlops-zoomcamp/02-experiment-tracking/mlruns/1/39a28b28d0da48798522ecb3715a5b28/artifacts', end_time=1716705198663, experiment_id='1', lifecycle_stage='active', run_id='39a28b28d0da48798522ecb3715a5b28', run_name='sincere-pig-802', run_uuid='39a28b28d0da48798522ecb3715a5b28', start_time=1716705098892, status='FINISHED', user_id='codespace'>, inputs=<RunInputs: dataset_inputs=[]>>,\n",
       " <Run: data=<RunData: metrics={'rmse': 6.417884623943859}, params={'learning_rate': '0.8888809772309892',\n",
       "  'max_depth': '97',\n",
       "  'min_child_weight': '2.2296951025318625',\n",
       "  'objective': 'reg:linear',\n",
       "  'reg_alpha': '0.09172335056339005',\n",
       "  'reg_lambda': '0.023981852845147537',\n",
       "  'seed': '42'}, tags={'mlflow.runName': 'luminous-duck-257',\n",
       "  'mlflow.source.name': '/home/codespace/anaconda3/envs/exp-tracking-env/lib/python3.9/site-packages/ipykernel_launcher.py',\n",
       "  'mlflow.source.type': 'LOCAL',\n",
       "  'mlflow.user': 'codespace',\n",
       "  'model': 'xgboost'}>, info=<RunInfo: artifact_uri='/workspaces/mlops-zoomcamp/02-experiment-tracking/mlruns/1/a60b8295c8d54a9c89821e9ac82b18f7/artifacts', end_time=1716705238344, experiment_id='1', lifecycle_stage='active', run_id='a60b8295c8d54a9c89821e9ac82b18f7', run_name='luminous-duck-257', run_uuid='a60b8295c8d54a9c89821e9ac82b18f7', start_time=1716705198700, status='FINISHED', user_id='codespace'>, inputs=<RunInputs: dataset_inputs=[]>>,\n",
       " <Run: data=<RunData: metrics={'rmse': 6.457029176345168}, params={'learning_rate': '0.2876869543715332',\n",
       "  'max_depth': '96',\n",
       "  'min_child_weight': '0.5217303400070488',\n",
       "  'objective': 'reg:linear',\n",
       "  'reg_alpha': '0.044629144197108936',\n",
       "  'reg_lambda': '0.030008890346257127',\n",
       "  'seed': '42'}, tags={'mlflow.runName': 'mysterious-newt-857',\n",
       "  'mlflow.source.name': '/home/codespace/anaconda3/envs/exp-tracking-env/lib/python3.9/site-packages/ipykernel_launcher.py',\n",
       "  'mlflow.source.type': 'LOCAL',\n",
       "  'mlflow.user': 'codespace',\n",
       "  'model': 'xgboost'}>, info=<RunInfo: artifact_uri='/workspaces/mlops-zoomcamp/02-experiment-tracking/mlruns/1/d19fd36e19604d5db60b3bf88268c349/artifacts', end_time=1716705415600, experiment_id='1', lifecycle_stage='active', run_id='d19fd36e19604d5db60b3bf88268c349', run_name='mysterious-newt-857', run_uuid='d19fd36e19604d5db60b3bf88268c349', start_time=1716705288469, status='FINISHED', user_id='codespace'>, inputs=<RunInputs: dataset_inputs=[]>>]"
      ]
     },
     "execution_count": 12,
     "metadata": {},
     "output_type": "execute_result"
    }
   ],
   "source": [
    "runs  = client.search_runs(experiment_ids=\"1\", filter_string=\"metrics.rmse < 6.8\", run_view_type=ViewType.ACTIVE_ONLY,\n",
    "                          max_results=5, order_by=[\"metrics.rmse ASC\"])\n",
    "runs"
   ]
  },
  {
   "cell_type": "code",
   "execution_count": 13,
   "id": "1b9d89d8-4c7d-47f1-a233-247e7edc6d0f",
   "metadata": {},
   "outputs": [
    {
     "name": "stdout",
     "output_type": "stream",
     "text": [
      "run id: bd445d19e0294436bdf2d5092915bca8, rmse: 6.3167\n",
      "run id: dcb560dd39354958974be6a0b7e5f37a, rmse: 6.3167\n",
      "run id: 39a28b28d0da48798522ecb3715a5b28, rmse: 6.3167\n",
      "run id: a60b8295c8d54a9c89821e9ac82b18f7, rmse: 6.4179\n",
      "run id: d19fd36e19604d5db60b3bf88268c349, rmse: 6.4570\n"
     ]
    }
   ],
   "source": [
    "for run in runs:\n",
    "    print(f\"run id: {run.info.run_id}, rmse: {run.data.metrics['rmse']:.4f}\")"
   ]
  },
  {
   "cell_type": "code",
   "execution_count": null,
   "id": "586774b1-2b02-4ec5-895c-336a1ad2f1f1",
   "metadata": {},
   "outputs": [],
   "source": []
  },
  {
   "cell_type": "code",
   "execution_count": 14,
   "id": "61136249-4b63-45b7-a8d1-229ef0ac1e56",
   "metadata": {},
   "outputs": [],
   "source": [
    "import mlflow"
   ]
  },
  {
   "cell_type": "code",
   "execution_count": 15,
   "id": "e1b20eba-d08c-4fb2-943d-49bb0d4be5d8",
   "metadata": {},
   "outputs": [],
   "source": [
    "mlflow.set_tracking_uri(MLFLOW_TRACKING_URI)"
   ]
  },
  {
   "cell_type": "code",
   "execution_count": 16,
   "id": "e49be540-32be-49fc-868d-285469bce700",
   "metadata": {},
   "outputs": [
    {
     "name": "stderr",
     "output_type": "stream",
     "text": [
      "Registered model 'nyc-taxi-regressor' already exists. Creating a new version of this model...\n",
      "Created version '3' of model 'nyc-taxi-regressor'.\n"
     ]
    },
    {
     "data": {
      "text/plain": [
       "<ModelVersion: aliases=[], creation_timestamp=1717343518156, current_stage='None', description=None, last_updated_timestamp=1717343518156, name='nyc-taxi-regressor', run_id='dcb560dd39354958974be6a0b7e5f37a', run_link=None, source='/workspaces/mlops-zoomcamp/02-experiment-tracking/mlruns/1/dcb560dd39354958974be6a0b7e5f37a/artifacts/model', status='READY', status_message=None, tags={}, user_id=None, version=3>"
      ]
     },
     "execution_count": 16,
     "metadata": {},
     "output_type": "execute_result"
    }
   ],
   "source": [
    "run_id = \"dcb560dd39354958974be6a0b7e5f37a\"\n",
    "model_uri = f\"runs:/{run_id}/model\"\n",
    "mlflow.register_model(model_uri=model_uri, name=\"nyc-taxi-regressor\")"
   ]
  },
  {
   "cell_type": "code",
   "execution_count": null,
   "id": "c5921029-66af-4ab0-9b8b-acd9b5f88749",
   "metadata": {},
   "outputs": [],
   "source": []
  },
  {
   "cell_type": "code",
   "execution_count": 17,
   "id": "b43f345d-312d-48bb-ae13-4688c5181980",
   "metadata": {},
   "outputs": [
    {
     "data": {
      "text/plain": [
       "[<RegisteredModel: aliases={}, creation_timestamp=1717341617591, description='The NYC Taxi Predictor for Trip Duration', last_updated_timestamp=1717343518156, latest_versions=[<ModelVersion: aliases=[], creation_timestamp=1717341652227, current_stage='Staging', description='', last_updated_timestamp=1717342174165, name='nyc-taxi-regressor', run_id='dcb560dd39354958974be6a0b7e5f37a', run_link='', source='/workspaces/mlops-zoomcamp/02-experiment-tracking/mlruns/1/dcb560dd39354958974be6a0b7e5f37a/artifacts/models_mlflow', status='READY', status_message=None, tags={'model': 'xgboost'}, user_id=None, version=2>,\n",
       "  <ModelVersion: aliases=[], creation_timestamp=1717343518156, current_stage='None', description=None, last_updated_timestamp=1717343518156, name='nyc-taxi-regressor', run_id='dcb560dd39354958974be6a0b7e5f37a', run_link=None, source='/workspaces/mlops-zoomcamp/02-experiment-tracking/mlruns/1/dcb560dd39354958974be6a0b7e5f37a/artifacts/model', status='READY', status_message=None, tags={}, user_id=None, version=3>], name='nyc-taxi-regressor', tags={}>]"
      ]
     },
     "execution_count": 17,
     "metadata": {},
     "output_type": "execute_result"
    }
   ],
   "source": [
    "client.search_registered_models()"
   ]
  },
  {
   "cell_type": "code",
   "execution_count": null,
   "id": "fac66123-60b1-4aff-a4e5-7cd94f6b8d42",
   "metadata": {},
   "outputs": [],
   "source": [
    "model_name = \"nyc-taxi-regressor\"\n",
    "latest_versions = client.get_latest_versions(name=model_name)"
   ]
  }
 ],
 "metadata": {
  "kernelspec": {
   "display_name": "Python 3 (ipykernel)",
   "language": "python",
   "name": "python3"
  },
  "language_info": {
   "codemirror_mode": {
    "name": "ipython",
    "version": 3
   },
   "file_extension": ".py",
   "mimetype": "text/x-python",
   "name": "python",
   "nbconvert_exporter": "python",
   "pygments_lexer": "ipython3",
   "version": "3.9.19"
  }
 },
 "nbformat": 4,
 "nbformat_minor": 5
}
