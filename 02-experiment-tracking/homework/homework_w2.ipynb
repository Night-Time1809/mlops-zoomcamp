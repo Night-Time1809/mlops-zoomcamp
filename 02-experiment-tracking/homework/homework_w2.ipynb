{
 "cells": [
  {
   "cell_type": "markdown",
   "id": "7e7dae2b-8a9d-4c18-99b8-2b2bce3b5795",
   "metadata": {},
   "source": [
    "# Homework"
   ]
  },
  {
   "cell_type": "markdown",
   "id": "b82f01f9-dee0-4c3c-abd3-45994a05568b",
   "metadata": {},
   "source": [
    "## Q1. Install MLflow\n",
    "To get started with MLflow you'll need to install the MLflow Python package.\n",
    "\n",
    "For this we recommend creating a separate Python environment, for example, you can use conda environments, and then install the package there with `pip` or `conda`.\n",
    "\n",
    "Once you installed the package, run the command `mlflow --version` and check the output.\n",
    "\n",
    "What's the version that you have?"
   ]
  },
  {
   "cell_type": "code",
   "execution_count": 1,
   "id": "57f9ece6-57a9-483d-a9d3-5b49021fba53",
   "metadata": {},
   "outputs": [
    {
     "name": "stdout",
     "output_type": "stream",
     "text": [
      "mlflow, version 2.13.0\n"
     ]
    }
   ],
   "source": [
    "!mlflow --version"
   ]
  },
  {
   "cell_type": "code",
   "execution_count": null,
   "id": "9ada2606-010b-45ff-9b7e-2bb60d750340",
   "metadata": {},
   "outputs": [],
   "source": []
  },
  {
   "cell_type": "markdown",
   "id": "de554d2d-1301-4c7e-ae0d-f0a06f85c009",
   "metadata": {},
   "source": [
    "## Q2. Download and preprocess the data\n",
    "We'll use the Green Taxi Trip Records dataset to predict the duration of each trip.\n",
    "\n",
    "Download the data for January, February and March 2023 in parquet format from [here](https://www.nyc.gov/site/tlc/about/tlc-trip-record-data.page).\n",
    "\n",
    "Use the script preprocess_data.py located in the folder [homework](https://github.com/DataTalksClub/mlops-zoomcamp/tree/main/cohorts/2024/02-experiment-tracking/homework) to preprocess the data.\n",
    "\n",
    "The script will:\n",
    "\n",
    "* load the data from the folder `<TAXI_DATA_FOLDER>` (the folder where you have downloaded the data),\n",
    "* fit a `DictVectorizer` on the training set (January 2023 data),\n",
    "* save the preprocessed datasets and the `DictVectorizer` to disk.\n",
    "\n",
    "Your task is to download the datasets and then execute this command:\n",
    "```\n",
    "python preprocess_data.py --raw_data_path <TAXI_DATA_FOLDER> --dest_path ./output\n",
    "```\n",
    "\n",
    "Tip: go to `02-experiment-tracking/homework/` folder before executing the command and change the value of `<TAXI_DATA_FOLDER>` to the location where you saved the data.\n",
    "\n",
    "How many files were saved to `OUTPUT_FOLDER?`"
   ]
  },
  {
   "cell_type": "code",
   "execution_count": 2,
   "id": "aeb39895-ee7f-4f66-b9a4-77fb2cc87877",
   "metadata": {},
   "outputs": [
    {
     "name": "stdout",
     "output_type": "stream",
     "text": [
      "Untitled.ipynb\tartifacts   dataset  output\t\t train.py\n",
      "__pycache__\tbackend.db  mlruns   preprocess_data.py\n"
     ]
    }
   ],
   "source": [
    "!ls"
   ]
  },
  {
   "cell_type": "code",
   "execution_count": 3,
   "id": "44c2faa3-94af-4ec4-8f61-1cb1581d2fe1",
   "metadata": {},
   "outputs": [],
   "source": [
    "!python preprocess_data.py --raw_data_path dataset --dest_path ./output"
   ]
  },
  {
   "cell_type": "code",
   "execution_count": 4,
   "id": "35762a80-997f-45a4-a5a6-e699b810e985",
   "metadata": {},
   "outputs": [],
   "source": [
    "import glob"
   ]
  },
  {
   "cell_type": "code",
   "execution_count": 5,
   "id": "25c477a5-48c8-4b1b-b48e-5b4cfe5328f2",
   "metadata": {},
   "outputs": [
    {
     "data": {
      "text/plain": [
       "['output/val.pkl', 'output/test.pkl', 'output/dv.pkl', 'output/train.pkl']"
      ]
     },
     "execution_count": 5,
     "metadata": {},
     "output_type": "execute_result"
    }
   ],
   "source": [
    "glob.glob(\"output/*\")"
   ]
  },
  {
   "cell_type": "code",
   "execution_count": 6,
   "id": "b7ffc0f6-4d11-45e5-965d-dcc21d42e12c",
   "metadata": {},
   "outputs": [
    {
     "data": {
      "text/plain": [
       "4"
      ]
     },
     "execution_count": 6,
     "metadata": {},
     "output_type": "execute_result"
    }
   ],
   "source": [
    "len(glob.glob(\"output/*\"))"
   ]
  },
  {
   "cell_type": "code",
   "execution_count": null,
   "id": "cbce3f12-6be5-4aa9-a1b2-084536b20ade",
   "metadata": {},
   "outputs": [],
   "source": []
  },
  {
   "cell_type": "markdown",
   "id": "a74cf0eb-0775-4044-99ab-3fb2ce12f0b2",
   "metadata": {},
   "source": [
    "## Q3. Train a model with autolog\n",
    "We will train a `RandomForestRegressor` (from Scikit-Learn) on the taxi dataset.\n",
    "\n",
    "We have prepared the training script `train.py` for this exercise, which can be also found in the folder [homework](https://github.com/DataTalksClub/mlops-zoomcamp/tree/main/cohorts/2024/02-experiment-tracking/homework).\n",
    "\n",
    "The script will:\n",
    "\n",
    "* load the datasets produced by the previous step,\n",
    "* train the model on the training set,\n",
    "* calculate the RMSE score on the validation set.\n",
    "\n",
    "Your task is to modify the script to enable autologging with MLflow, execute the script and then launch the MLflow UI to check that the experiment run was properly tracked.\n",
    "\n",
    "Tip 1: don't forget to wrap the training code with a with `mlflow.start_run():` statement as we showed in the videos.\n",
    "\n",
    "Tip 2: don't modify the hyperparameters of the model to make sure that the training will finish quickly.\n",
    "\n",
    "What is the value of the min_samples_split parameter:\n",
    "\n",
    "* 2\n",
    "* 4\n",
    "* 8\n",
    "* 10"
   ]
  },
  {
   "cell_type": "code",
   "execution_count": 7,
   "id": "5261b91c-0fad-4c9f-b1d8-85ea01a713ad",
   "metadata": {},
   "outputs": [],
   "source": [
    "from train import *"
   ]
  },
  {
   "cell_type": "code",
   "execution_count": 8,
   "id": "0c9594bd-09c9-4f88-bc0a-57460bde701b",
   "metadata": {},
   "outputs": [
    {
     "name": "stderr",
     "output_type": "stream",
     "text": [
      "2024/06/03 16:28:18 WARNING mlflow.utils.autologging_utils: You are using an unsupported version of sklearn. If you encounter errors during autologging, try upgrading / downgrading sklearn to a supported version, or try upgrading MLflow.\n",
      "2024/06/03 16:28:19 WARNING mlflow.sklearn: Failed to log training dataset information to MLflow Tracking. Reason: 'numpy.ndarray' object has no attribute 'toarray'\n",
      "2024/06/03 16:28:33 WARNING mlflow.utils.autologging_utils: MLflow autologging encountered a warning: \"/home/codespace/anaconda3/envs/exp-tracking-env/lib/python3.9/site-packages/_distutils_hack/__init__.py:26: UserWarning: Setuptools is replacing distutils.\"\n"
     ]
    }
   ],
   "source": [
    "run_train(data_path=\"output\")"
   ]
  },
  {
   "cell_type": "code",
   "execution_count": null,
   "id": "221b8fe2-c906-4e36-997d-30182a688cc6",
   "metadata": {},
   "outputs": [],
   "source": []
  },
  {
   "cell_type": "markdown",
   "id": "fc23d8b6-8024-4c92-a77e-43127aa62521",
   "metadata": {},
   "source": [
    "## Q4. Launch the tracking server locally\n",
    "\n",
    "Now we want to manage the entire lifecycle of our ML model. In this step, you'll need to launch a tracking server. This way we will also have access to the model registry. \n",
    "\n",
    "Your task is to:\n",
    "\n",
    "* launch the tracking server on your local machine,\n",
    "* select a SQLite db for the backend store and a folder called `artifacts` for the artifacts store.\n",
    "\n",
    "You should keep the tracking server running to work on the next two exercises that use the server.\n",
    "\n",
    "In addition to `backend-store-uri`, what else do you need to pass to properly configure the server?\n",
    "\n",
    "* `default-artifact-root`\n",
    "* `serve-artifacts`\n",
    "* `artifacts-only`\n",
    "* `artifacts-destination`"
   ]
  },
  {
   "cell_type": "code",
   "execution_count": 1,
   "id": "51763ade-c327-4704-aa1f-b245a325d085",
   "metadata": {},
   "outputs": [],
   "source": [
    "import mlflow"
   ]
  },
  {
   "cell_type": "code",
   "execution_count": 2,
   "id": "78f343eb-dffb-40da-862a-57f06273e457",
   "metadata": {},
   "outputs": [],
   "source": [
    "mlflow.set_tracking_uri(\"http://127.0.0.1:5000\")"
   ]
  },
  {
   "cell_type": "code",
   "execution_count": 3,
   "id": "2a5f6c6b-8cc7-4a3f-a8e6-ce856abd8f25",
   "metadata": {},
   "outputs": [
    {
     "data": {
      "text/plain": [
       "'http://127.0.0.1:5000'"
      ]
     },
     "execution_count": 3,
     "metadata": {},
     "output_type": "execute_result"
    }
   ],
   "source": [
    "mlflow.get_tracking_uri()"
   ]
  },
  {
   "cell_type": "code",
   "execution_count": 4,
   "id": "413fd3c0-3ad3-4d26-ab35-7bac25935470",
   "metadata": {},
   "outputs": [
    {
     "data": {
      "text/plain": [
       "[<Experiment: artifact_location='/workspaces/mlops-zoomcamp/02-experiment-tracking/homework/artifacts/1', creation_time=1717432889759, experiment_id='1', last_update_time=1717432889759, lifecycle_stage='active', name='random-forest-hyperopt', tags={}>,\n",
       " <Experiment: artifact_location='/workspaces/mlops-zoomcamp/02-experiment-tracking/homework/artifacts/0', creation_time=1717431317777, experiment_id='0', last_update_time=1717431317777, lifecycle_stage='active', name='Default', tags={}>]"
      ]
     },
     "execution_count": 4,
     "metadata": {},
     "output_type": "execute_result"
    }
   ],
   "source": [
    "mlflow.search_experiments()"
   ]
  },
  {
   "cell_type": "code",
   "execution_count": null,
   "id": "edd5615d-c351-4adf-963d-f78107da02d7",
   "metadata": {},
   "outputs": [],
   "source": []
  },
  {
   "cell_type": "markdown",
   "id": "912d11cf-0558-48d2-ad9e-9ca75a881de0",
   "metadata": {},
   "source": [
    "## Q5. Tune model hyperparameters\n",
    "\n",
    "Now let's try to reduce the validation error by tuning the hyperparameters of the `RandomForestRegressor` using `hyperopt`. \n",
    "We have prepared the script `hpo.py` for this exercise. \n",
    "\n",
    "Your task is to modify the script `hpo.py` and make sure that the validation RMSE is logged to the tracking server for each run of the hyperparameter optimization (you will need to add a few lines of code to the `objective` function) and run the script without passing any parameters.\n",
    "\n",
    "After that, open UI and explore the runs from the experiment called `random-forest-hyperopt` to answer the question below.\n",
    "\n",
    "Note: Don't use autologging for this exercise.\n",
    "\n",
    "The idea is to just log the information that you need to answer the question below, including:\n",
    "\n",
    "* the list of hyperparameters that are passed to the `objective` function during the optimization,\n",
    "* the RMSE obtained on the validation set (February 2023 data).\n",
    "\n",
    "What's the best validation RMSE that you got?\n",
    "\n",
    "* 4.817\n",
    "* 5.335\n",
    "* 5.818\n",
    "* 6.336"
   ]
  },
  {
   "cell_type": "code",
   "execution_count": 5,
   "id": "db191af3-068a-4c28-aa64-70ffada33a75",
   "metadata": {},
   "outputs": [
    {
     "name": "stdout",
     "output_type": "stream",
     "text": [
      "  7%|▋          | 1/15 [00:09<02:17,  9.83s/trial, best loss: 5.370086069268862]/home/codespace/anaconda3/envs/exp-tracking-env/lib/python3.9/site-packages/_distutils_hack/__init__.py:11: UserWarning: Distutils was imported before Setuptools, but importing Setuptools also replaces the `distutils` module in `sys.modules`. This may lead to undesirable behaviors or errors. To avoid these issues, avoid using distutils directly, ensure that setuptools is installed in the traditional way (e.g. not an editable install), and/or make sure that setuptools is always imported before distutils.\n",
      "  warnings.warn(\n",
      "\n",
      "/home/codespace/anaconda3/envs/exp-tracking-env/lib/python3.9/site-packages/_distutils_hack/__init__.py:26: UserWarning: Setuptools is replacing distutils.\n",
      "  warnings.warn(\"Setuptools is replacing distutils.\")\n",
      "\n",
      " 13%|█▍         | 2/15 [00:11<01:07,  5.20s/trial, best loss: 5.370086069268862]/home/codespace/anaconda3/envs/exp-tracking-env/lib/python3.9/site-packages/_distutils_hack/__init__.py:11: UserWarning: Distutils was imported before Setuptools, but importing Setuptools also replaces the `distutils` module in `sys.modules`. This may lead to undesirable behaviors or errors. To avoid these issues, avoid using distutils directly, ensure that setuptools is installed in the traditional way (e.g. not an editable install), and/or make sure that setuptools is always imported before distutils.\n",
      "  warnings.warn(\n",
      "\n",
      "/home/codespace/anaconda3/envs/exp-tracking-env/lib/python3.9/site-packages/_distutils_hack/__init__.py:26: UserWarning: Setuptools is replacing distutils.\n",
      "  warnings.warn(\"Setuptools is replacing distutils.\")\n",
      "\n",
      " 20%|██▏        | 3/15 [00:13<00:45,  3.78s/trial, best loss: 5.370086069268862]/home/codespace/anaconda3/envs/exp-tracking-env/lib/python3.9/site-packages/_distutils_hack/__init__.py:11: UserWarning: Distutils was imported before Setuptools, but importing Setuptools also replaces the `distutils` module in `sys.modules`. This may lead to undesirable behaviors or errors. To avoid these issues, avoid using distutils directly, ensure that setuptools is installed in the traditional way (e.g. not an editable install), and/or make sure that setuptools is always imported before distutils.\n",
      "  warnings.warn(\n",
      "\n",
      "/home/codespace/anaconda3/envs/exp-tracking-env/lib/python3.9/site-packages/_distutils_hack/__init__.py:26: UserWarning: Setuptools is replacing distutils.\n",
      "  warnings.warn(\"Setuptools is replacing distutils.\")\n",
      "\n",
      " 27%|██▉        | 4/15 [00:20<00:53,  4.86s/trial, best loss: 5.357490752366866]/home/codespace/anaconda3/envs/exp-tracking-env/lib/python3.9/site-packages/_distutils_hack/__init__.py:11: UserWarning: Distutils was imported before Setuptools, but importing Setuptools also replaces the `distutils` module in `sys.modules`. This may lead to undesirable behaviors or errors. To avoid these issues, avoid using distutils directly, ensure that setuptools is installed in the traditional way (e.g. not an editable install), and/or make sure that setuptools is always imported before distutils.\n",
      "  warnings.warn(\n",
      "\n",
      "/home/codespace/anaconda3/envs/exp-tracking-env/lib/python3.9/site-packages/_distutils_hack/__init__.py:26: UserWarning: Setuptools is replacing distutils.\n",
      "  warnings.warn(\"Setuptools is replacing distutils.\")\n",
      "\n",
      " 33%|███▋       | 5/15 [00:24<00:45,  4.56s/trial, best loss: 5.357490752366866]/home/codespace/anaconda3/envs/exp-tracking-env/lib/python3.9/site-packages/_distutils_hack/__init__.py:11: UserWarning: Distutils was imported before Setuptools, but importing Setuptools also replaces the `distutils` module in `sys.modules`. This may lead to undesirable behaviors or errors. To avoid these issues, avoid using distutils directly, ensure that setuptools is installed in the traditional way (e.g. not an editable install), and/or make sure that setuptools is always imported before distutils.\n",
      "  warnings.warn(\n",
      "\n",
      "/home/codespace/anaconda3/envs/exp-tracking-env/lib/python3.9/site-packages/_distutils_hack/__init__.py:26: UserWarning: Setuptools is replacing distutils.\n",
      "  warnings.warn(\"Setuptools is replacing distutils.\")\n",
      "\n",
      " 40%|████▍      | 6/15 [00:34<00:57,  6.43s/trial, best loss: 5.354695072530291]/home/codespace/anaconda3/envs/exp-tracking-env/lib/python3.9/site-packages/_distutils_hack/__init__.py:11: UserWarning: Distutils was imported before Setuptools, but importing Setuptools also replaces the `distutils` module in `sys.modules`. This may lead to undesirable behaviors or errors. To avoid these issues, avoid using distutils directly, ensure that setuptools is installed in the traditional way (e.g. not an editable install), and/or make sure that setuptools is always imported before distutils.\n",
      "  warnings.warn(\n",
      "\n",
      "/home/codespace/anaconda3/envs/exp-tracking-env/lib/python3.9/site-packages/_distutils_hack/__init__.py:26: UserWarning: Setuptools is replacing distutils.\n",
      "  warnings.warn(\"Setuptools is replacing distutils.\")\n",
      "\n",
      " 47%|█████▏     | 7/15 [00:44<01:00,  7.58s/trial, best loss: 5.354695072530291]/home/codespace/anaconda3/envs/exp-tracking-env/lib/python3.9/site-packages/_distutils_hack/__init__.py:11: UserWarning: Distutils was imported before Setuptools, but importing Setuptools also replaces the `distutils` module in `sys.modules`. This may lead to undesirable behaviors or errors. To avoid these issues, avoid using distutils directly, ensure that setuptools is installed in the traditional way (e.g. not an editable install), and/or make sure that setuptools is always imported before distutils.\n",
      "  warnings.warn(\n",
      "\n",
      "/home/codespace/anaconda3/envs/exp-tracking-env/lib/python3.9/site-packages/_distutils_hack/__init__.py:26: UserWarning: Setuptools is replacing distutils.\n",
      "  warnings.warn(\"Setuptools is replacing distutils.\")\n",
      "\n",
      " 53%|█████▊     | 8/15 [00:46<00:41,  5.93s/trial, best loss: 5.354695072530291]/home/codespace/anaconda3/envs/exp-tracking-env/lib/python3.9/site-packages/_distutils_hack/__init__.py:11: UserWarning: Distutils was imported before Setuptools, but importing Setuptools also replaces the `distutils` module in `sys.modules`. This may lead to undesirable behaviors or errors. To avoid these issues, avoid using distutils directly, ensure that setuptools is installed in the traditional way (e.g. not an editable install), and/or make sure that setuptools is always imported before distutils.\n",
      "  warnings.warn(\n",
      "\n",
      "/home/codespace/anaconda3/envs/exp-tracking-env/lib/python3.9/site-packages/_distutils_hack/__init__.py:26: UserWarning: Setuptools is replacing distutils.\n",
      "  warnings.warn(\"Setuptools is replacing distutils.\")\n",
      "\n",
      " 60%|██████▌    | 9/15 [00:53<00:37,  6.24s/trial, best loss: 5.354695072530291]/home/codespace/anaconda3/envs/exp-tracking-env/lib/python3.9/site-packages/_distutils_hack/__init__.py:11: UserWarning: Distutils was imported before Setuptools, but importing Setuptools also replaces the `distutils` module in `sys.modules`. This may lead to undesirable behaviors or errors. To avoid these issues, avoid using distutils directly, ensure that setuptools is installed in the traditional way (e.g. not an editable install), and/or make sure that setuptools is always imported before distutils.\n",
      "  warnings.warn(\n",
      "\n",
      "/home/codespace/anaconda3/envs/exp-tracking-env/lib/python3.9/site-packages/_distutils_hack/__init__.py:26: UserWarning: Setuptools is replacing distutils.\n",
      "  warnings.warn(\"Setuptools is replacing distutils.\")\n",
      "\n",
      " 67%|██████▋   | 10/15 [00:59<00:30,  6.11s/trial, best loss: 5.354695072530291]/home/codespace/anaconda3/envs/exp-tracking-env/lib/python3.9/site-packages/_distutils_hack/__init__.py:11: UserWarning: Distutils was imported before Setuptools, but importing Setuptools also replaces the `distutils` module in `sys.modules`. This may lead to undesirable behaviors or errors. To avoid these issues, avoid using distutils directly, ensure that setuptools is installed in the traditional way (e.g. not an editable install), and/or make sure that setuptools is always imported before distutils.\n",
      "  warnings.warn(\n",
      "\n",
      "/home/codespace/anaconda3/envs/exp-tracking-env/lib/python3.9/site-packages/_distutils_hack/__init__.py:26: UserWarning: Setuptools is replacing distutils.\n",
      "  warnings.warn(\"Setuptools is replacing distutils.\")\n",
      "\n",
      " 73%|███████▎  | 11/15 [01:04<00:22,  5.70s/trial, best loss: 5.335419588556921]/home/codespace/anaconda3/envs/exp-tracking-env/lib/python3.9/site-packages/_distutils_hack/__init__.py:11: UserWarning: Distutils was imported before Setuptools, but importing Setuptools also replaces the `distutils` module in `sys.modules`. This may lead to undesirable behaviors or errors. To avoid these issues, avoid using distutils directly, ensure that setuptools is installed in the traditional way (e.g. not an editable install), and/or make sure that setuptools is always imported before distutils.\n",
      "  warnings.warn(\n",
      "\n",
      "/home/codespace/anaconda3/envs/exp-tracking-env/lib/python3.9/site-packages/_distutils_hack/__init__.py:26: UserWarning: Setuptools is replacing distutils.\n",
      "  warnings.warn(\"Setuptools is replacing distutils.\")\n",
      "\n",
      " 80%|████████  | 12/15 [01:08<00:15,  5.28s/trial, best loss: 5.335419588556921]/home/codespace/anaconda3/envs/exp-tracking-env/lib/python3.9/site-packages/_distutils_hack/__init__.py:11: UserWarning: Distutils was imported before Setuptools, but importing Setuptools also replaces the `distutils` module in `sys.modules`. This may lead to undesirable behaviors or errors. To avoid these issues, avoid using distutils directly, ensure that setuptools is installed in the traditional way (e.g. not an editable install), and/or make sure that setuptools is always imported before distutils.\n",
      "  warnings.warn(\n",
      "\n",
      "/home/codespace/anaconda3/envs/exp-tracking-env/lib/python3.9/site-packages/_distutils_hack/__init__.py:26: UserWarning: Setuptools is replacing distutils.\n",
      "  warnings.warn(\"Setuptools is replacing distutils.\")\n",
      "\n",
      " 87%|████████▋ | 13/15 [01:11<00:08,  4.42s/trial, best loss: 5.335419588556921]/home/codespace/anaconda3/envs/exp-tracking-env/lib/python3.9/site-packages/_distutils_hack/__init__.py:11: UserWarning: Distutils was imported before Setuptools, but importing Setuptools also replaces the `distutils` module in `sys.modules`. This may lead to undesirable behaviors or errors. To avoid these issues, avoid using distutils directly, ensure that setuptools is installed in the traditional way (e.g. not an editable install), and/or make sure that setuptools is always imported before distutils.\n",
      "  warnings.warn(\n",
      "\n",
      "/home/codespace/anaconda3/envs/exp-tracking-env/lib/python3.9/site-packages/_distutils_hack/__init__.py:26: UserWarning: Setuptools is replacing distutils.\n",
      "  warnings.warn(\"Setuptools is replacing distutils.\")\n",
      "\n",
      " 93%|█████████▎| 14/15 [01:15<00:04,  4.48s/trial, best loss: 5.335419588556921]/home/codespace/anaconda3/envs/exp-tracking-env/lib/python3.9/site-packages/_distutils_hack/__init__.py:11: UserWarning: Distutils was imported before Setuptools, but importing Setuptools also replaces the `distutils` module in `sys.modules`. This may lead to undesirable behaviors or errors. To avoid these issues, avoid using distutils directly, ensure that setuptools is installed in the traditional way (e.g. not an editable install), and/or make sure that setuptools is always imported before distutils.\n",
      "  warnings.warn(\n",
      "\n",
      "/home/codespace/anaconda3/envs/exp-tracking-env/lib/python3.9/site-packages/_distutils_hack/__init__.py:26: UserWarning: Setuptools is replacing distutils.\n",
      "  warnings.warn(\"Setuptools is replacing distutils.\")\n",
      "\n",
      "100%|██████████| 15/15 [01:22<00:00,  5.47s/trial, best loss: 5.335419588556921]\n"
     ]
    }
   ],
   "source": [
    "!python hpo.py"
   ]
  },
  {
   "cell_type": "code",
   "execution_count": 6,
   "id": "47fdeca0-1156-4c9d-9370-f47b31090403",
   "metadata": {},
   "outputs": [
    {
     "name": "stdout",
     "output_type": "stream",
     "text": [
      "Untitled.ipynb  \u001b[0m\u001b[34;42martifacts\u001b[0m/  \u001b[34;42mdataset\u001b[0m/  \u001b[34;42mmlruns\u001b[0m/  preprocess_data.py\n",
      "\u001b[34;42m__pycache__\u001b[0m/    backend.db  hpo.py    \u001b[34;42moutput\u001b[0m/  train.py\n"
     ]
    }
   ],
   "source": [
    "ls"
   ]
  },
  {
   "cell_type": "code",
   "execution_count": 22,
   "id": "66a6878b-9cc6-429c-a1cb-a2cefb5e1232",
   "metadata": {},
   "outputs": [
    {
     "data": {
      "text/plain": [
       "[<Experiment: artifact_location='/workspaces/mlops-zoomcamp/02-experiment-tracking/homework/artifacts/2', creation_time=1717434831461, experiment_id='2', last_update_time=1717434831461, lifecycle_stage='active', name='random-forest-best-models', tags={}>,\n",
       " <Experiment: artifact_location='/workspaces/mlops-zoomcamp/02-experiment-tracking/homework/artifacts/1', creation_time=1717432889759, experiment_id='1', last_update_time=1717432889759, lifecycle_stage='active', name='random-forest-hyperopt', tags={}>,\n",
       " <Experiment: artifact_location='/workspaces/mlops-zoomcamp/02-experiment-tracking/homework/artifacts/0', creation_time=1717431317777, experiment_id='0', last_update_time=1717431317777, lifecycle_stage='active', name='Default', tags={}>]"
      ]
     },
     "execution_count": 22,
     "metadata": {},
     "output_type": "execute_result"
    }
   ],
   "source": [
    "mlflow.search_experiments()"
   ]
  },
  {
   "cell_type": "code",
   "execution_count": null,
   "id": "e5d2e59b-399b-4a86-911c-b01857cd3e41",
   "metadata": {},
   "outputs": [],
   "source": []
  },
  {
   "cell_type": "markdown",
   "id": "08729e7b-b2b8-40a2-baa4-923fe0a5365f",
   "metadata": {},
   "source": [
    "## Q6. Promote the best model to the model registry\n",
    "\n",
    "The results from the hyperparameter optimization are quite good. So, we can assume that we are ready to test some of these models in production. \n",
    "In this exercise, you'll promote the best model to the model registry. We have prepared a script called `register_model.py`, which will check the results from the previous step and select the top 5 runs. \n",
    "After that, it will calculate the RMSE of those models on the test set (March 2023 data) and save the results to a new experiment called `random-forest-best-models`.\n",
    "\n",
    "Your task is to update the script `register_model.py` so that it selects the model with the lowest RMSE on the test set and registers it to the model registry.\n",
    "\n",
    "Tip 1: you can use the method `search_runs` from the `MlflowClient` to get the model with the lowest RMSE,\n",
    "\n",
    "Tip 2: to register the model you can use the method `mlflow.register_model` and you will need to pass the right `model_uri` in the form of a string that looks like this: `\"runs:/<RUN_ID>/model\"`, and the name of the model (make sure to choose a good one!).\n",
    "\n",
    "What is the test RMSE of the best model?\n",
    "\n",
    "* 5.060\n",
    "* 5.567\n",
    "* 6.061\n",
    "* 6.568"
   ]
  },
  {
   "cell_type": "code",
   "execution_count": 8,
   "id": "7e75c75a-5d22-4caf-9486-e094cb9c646f",
   "metadata": {},
   "outputs": [],
   "source": [
    "from mlflow.tracking import MlflowClient\n",
    "\n",
    "client = MlflowClient(\"http://127.0.0.1:5000\")"
   ]
  },
  {
   "cell_type": "code",
   "execution_count": 9,
   "id": "64ce56da-5d19-4e71-90cb-2be9e1e93b51",
   "metadata": {},
   "outputs": [
    {
     "data": {
      "text/plain": [
       "[]"
      ]
     },
     "execution_count": 9,
     "metadata": {},
     "output_type": "execute_result"
    }
   ],
   "source": [
    "client.search_registered_models()"
   ]
  },
  {
   "cell_type": "code",
   "execution_count": 20,
   "id": "00df3a75-8b2a-4a98-9aa6-119f01412403",
   "metadata": {
    "scrolled": true
   },
   "outputs": [
    {
     "data": {
      "text/plain": [
       "[<Run: data=<RunData: metrics={'rmse': 5.355041749098929}, params={'max_depth': '20',\n",
       "  'min_samples_leaf': '1',\n",
       "  'min_samples_split': '9',\n",
       "  'n_estimators': '19',\n",
       "  'random_state': '42'}, tags={'mlflow.log-model.history': '[{\"run_id\": \"6b4d9a1f168b4230a9fe31455f402ad5\", '\n",
       "                              '\"artifact_path\": \"models\", \"utc_time_created\": '\n",
       "                              '\"2024-06-03 16:56:07.637900\", \"flavors\": '\n",
       "                              '{\"python_function\": {\"model_path\": \"model.pkl\", '\n",
       "                              '\"predict_fn\": \"predict\", \"loader_module\": '\n",
       "                              '\"mlflow.sklearn\", \"python_version\": \"3.9.19\", '\n",
       "                              '\"env\": {\"conda\": \"conda.yaml\", \"virtualenv\": '\n",
       "                              '\"python_env.yaml\"}}, \"sklearn\": '\n",
       "                              '{\"pickled_model\": \"model.pkl\", '\n",
       "                              '\"sklearn_version\": \"1.5.0\", '\n",
       "                              '\"serialization_format\": \"cloudpickle\", \"code\": '\n",
       "                              'null}}, \"model_uuid\": '\n",
       "                              '\"58085681aade4f10bbad34b665d5a5fb\", '\n",
       "                              '\"mlflow_version\": \"2.13.0\", \"model_size_bytes\": '\n",
       "                              '2524667}]',\n",
       "  'mlflow.runName': 'clumsy-smelt-480',\n",
       "  'mlflow.source.git.commit': 'dd09be2a7b9dd9894aaae6ae3899eb4e789663b2',\n",
       "  'mlflow.source.name': 'hpo.py',\n",
       "  'mlflow.source.type': 'LOCAL',\n",
       "  'mlflow.user': 'codespace',\n",
       "  'model': 'randomforest'}>, info=<RunInfo: artifact_uri='/workspaces/mlops-zoomcamp/02-experiment-tracking/homework/artifacts/1/6b4d9a1f168b4230a9fe31455f402ad5/artifacts', end_time=1717433768971, experiment_id='1', lifecycle_stage='active', run_id='6b4d9a1f168b4230a9fe31455f402ad5', run_name='clumsy-smelt-480', run_uuid='6b4d9a1f168b4230a9fe31455f402ad5', start_time=1717433762669, status='FINISHED', user_id='codespace'>, inputs=<RunInputs: dataset_inputs=[]>>,\n",
       " <Run: data=<RunData: metrics={'rmse': 5.37159585587677}, params={'max_depth': '18',\n",
       "  'min_samples_leaf': '1',\n",
       "  'min_samples_split': '6',\n",
       "  'n_estimators': '13',\n",
       "  'random_state': '42'}, tags={'mlflow.log-model.history': '[{\"run_id\": \"4e072a3eced54532b0ad08474c941440\", '\n",
       "                              '\"artifact_path\": \"models\", \"utc_time_created\": '\n",
       "                              '\"2024-06-03 16:56:01.210531\", \"flavors\": '\n",
       "                              '{\"python_function\": {\"model_path\": \"model.pkl\", '\n",
       "                              '\"predict_fn\": \"predict\", \"loader_module\": '\n",
       "                              '\"mlflow.sklearn\", \"python_version\": \"3.9.19\", '\n",
       "                              '\"env\": {\"conda\": \"conda.yaml\", \"virtualenv\": '\n",
       "                              '\"python_env.yaml\"}}, \"sklearn\": '\n",
       "                              '{\"pickled_model\": \"model.pkl\", '\n",
       "                              '\"sklearn_version\": \"1.5.0\", '\n",
       "                              '\"serialization_format\": \"cloudpickle\", \"code\": '\n",
       "                              'null}}, \"model_uuid\": '\n",
       "                              '\"10397d4ba4984a2a97a8ff5e6862734d\", '\n",
       "                              '\"mlflow_version\": \"2.13.0\", \"model_size_bytes\": '\n",
       "                              '1803407}]',\n",
       "  'mlflow.runName': 'capable-shrew-452',\n",
       "  'mlflow.source.git.commit': 'dd09be2a7b9dd9894aaae6ae3899eb4e789663b2',\n",
       "  'mlflow.source.name': 'hpo.py',\n",
       "  'mlflow.source.type': 'LOCAL',\n",
       "  'mlflow.user': 'codespace',\n",
       "  'model': 'randomforest'}>, info=<RunInfo: artifact_uri='/workspaces/mlops-zoomcamp/02-experiment-tracking/homework/artifacts/1/4e072a3eced54532b0ad08474c941440/artifacts', end_time=1717433762636, experiment_id='1', lifecycle_stage='active', run_id='4e072a3eced54532b0ad08474c941440', run_name='capable-shrew-452', run_uuid='4e072a3eced54532b0ad08474c941440', start_time=1717433758074, status='FINISHED', user_id='codespace'>, inputs=<RunInputs: dataset_inputs=[]>>,\n",
       " <Run: data=<RunData: metrics={'rmse': 5.538069949003994}, params={'max_depth': '5',\n",
       "  'min_samples_leaf': '3',\n",
       "  'min_samples_split': '8',\n",
       "  'n_estimators': '21',\n",
       "  'random_state': '42'}, tags={'mlflow.log-model.history': '[{\"run_id\": \"4d8d524a66364eae950595a93175c585\", '\n",
       "                              '\"artifact_path\": \"models\", \"utc_time_created\": '\n",
       "                              '\"2024-06-03 16:55:56.647886\", \"flavors\": '\n",
       "                              '{\"python_function\": {\"model_path\": \"model.pkl\", '\n",
       "                              '\"predict_fn\": \"predict\", \"loader_module\": '\n",
       "                              '\"mlflow.sklearn\", \"python_version\": \"3.9.19\", '\n",
       "                              '\"env\": {\"conda\": \"conda.yaml\", \"virtualenv\": '\n",
       "                              '\"python_env.yaml\"}}, \"sklearn\": '\n",
       "                              '{\"pickled_model\": \"model.pkl\", '\n",
       "                              '\"sklearn_version\": \"1.5.0\", '\n",
       "                              '\"serialization_format\": \"cloudpickle\", \"code\": '\n",
       "                              'null}}, \"model_uuid\": '\n",
       "                              '\"ca0d0ad38df44a8aac0f9cf00ac48de0\", '\n",
       "                              '\"mlflow_version\": \"2.13.0\", \"model_size_bytes\": '\n",
       "                              '94940}]',\n",
       "  'mlflow.runName': 'crawling-doe-965',\n",
       "  'mlflow.source.git.commit': 'dd09be2a7b9dd9894aaae6ae3899eb4e789663b2',\n",
       "  'mlflow.source.name': 'hpo.py',\n",
       "  'mlflow.source.type': 'LOCAL',\n",
       "  'mlflow.user': 'codespace',\n",
       "  'model': 'randomforest'}>, info=<RunInfo: artifact_uri='/workspaces/mlops-zoomcamp/02-experiment-tracking/homework/artifacts/1/4d8d524a66364eae950595a93175c585/artifacts', end_time=1717433758040, experiment_id='1', lifecycle_stage='active', run_id='4d8d524a66364eae950595a93175c585', run_name='crawling-doe-965', run_uuid='4d8d524a66364eae950595a93175c585', start_time=1717433755614, status='FINISHED', user_id='codespace'>, inputs=<RunInputs: dataset_inputs=[]>>,\n",
       " <Run: data=<RunData: metrics={'rmse': 5.484068016681342}, params={'max_depth': '7',\n",
       "  'min_samples_leaf': '1',\n",
       "  'min_samples_split': '7',\n",
       "  'n_estimators': '41',\n",
       "  'random_state': '42'}, tags={'mlflow.log-model.history': '[{\"run_id\": \"8f90a9d6c3d14d548c4018f5123ca466\", '\n",
       "                              '\"artifact_path\": \"models\", \"utc_time_created\": '\n",
       "                              '\"2024-06-03 16:55:54.175266\", \"flavors\": '\n",
       "                              '{\"python_function\": {\"model_path\": \"model.pkl\", '\n",
       "                              '\"predict_fn\": \"predict\", \"loader_module\": '\n",
       "                              '\"mlflow.sklearn\", \"python_version\": \"3.9.19\", '\n",
       "                              '\"env\": {\"conda\": \"conda.yaml\", \"virtualenv\": '\n",
       "                              '\"python_env.yaml\"}}, \"sklearn\": '\n",
       "                              '{\"pickled_model\": \"model.pkl\", '\n",
       "                              '\"sklearn_version\": \"1.5.0\", '\n",
       "                              '\"serialization_format\": \"cloudpickle\", \"code\": '\n",
       "                              'null}}, \"model_uuid\": '\n",
       "                              '\"2a2be8f40f36413aa9c054bc3caac542\", '\n",
       "                              '\"mlflow_version\": \"2.13.0\", \"model_size_bytes\": '\n",
       "                              '491441}]',\n",
       "  'mlflow.runName': 'popular-lark-292',\n",
       "  'mlflow.source.git.commit': 'dd09be2a7b9dd9894aaae6ae3899eb4e789663b2',\n",
       "  'mlflow.source.name': 'hpo.py',\n",
       "  'mlflow.source.type': 'LOCAL',\n",
       "  'mlflow.user': 'codespace',\n",
       "  'model': 'randomforest'}>, info=<RunInfo: artifact_uri='/workspaces/mlops-zoomcamp/02-experiment-tracking/homework/artifacts/1/8f90a9d6c3d14d548c4018f5123ca466/artifacts', end_time=1717433755580, experiment_id='1', lifecycle_stage='active', run_id='8f90a9d6c3d14d548c4018f5123ca466', run_name='popular-lark-292', run_uuid='8f90a9d6c3d14d548c4018f5123ca466', start_time=1717433751300, status='FINISHED', user_id='codespace'>, inputs=<RunInputs: dataset_inputs=[]>>,\n",
       " <Run: data=<RunData: metrics={'rmse': 5.335419588556921}, params={'max_depth': '19',\n",
       "  'min_samples_leaf': '2',\n",
       "  'min_samples_split': '2',\n",
       "  'n_estimators': '11',\n",
       "  'random_state': '42'}, tags={'mlflow.log-model.history': '[{\"run_id\": \"a5e3ed61da9e4e0aa83df6e95a82009f\", '\n",
       "                              '\"artifact_path\": \"models\", \"utc_time_created\": '\n",
       "                              '\"2024-06-03 16:55:49.899416\", \"flavors\": '\n",
       "                              '{\"python_function\": {\"model_path\": \"model.pkl\", '\n",
       "                              '\"predict_fn\": \"predict\", \"loader_module\": '\n",
       "                              '\"mlflow.sklearn\", \"python_version\": \"3.9.19\", '\n",
       "                              '\"env\": {\"conda\": \"conda.yaml\", \"virtualenv\": '\n",
       "                              '\"python_env.yaml\"}}, \"sklearn\": '\n",
       "                              '{\"pickled_model\": \"model.pkl\", '\n",
       "                              '\"sklearn_version\": \"1.5.0\", '\n",
       "                              '\"serialization_format\": \"cloudpickle\", \"code\": '\n",
       "                              'null}}, \"model_uuid\": '\n",
       "                              '\"6e0ddd36fa15471a98743e6d34f8b971\", '\n",
       "                              '\"mlflow_version\": \"2.13.0\", \"model_size_bytes\": '\n",
       "                              '2437643}]',\n",
       "  'mlflow.runName': 'loud-wasp-957',\n",
       "  'mlflow.source.git.commit': 'dd09be2a7b9dd9894aaae6ae3899eb4e789663b2',\n",
       "  'mlflow.source.name': 'hpo.py',\n",
       "  'mlflow.source.type': 'LOCAL',\n",
       "  'mlflow.user': 'codespace',\n",
       "  'model': 'randomforest'}>, info=<RunInfo: artifact_uri='/workspaces/mlops-zoomcamp/02-experiment-tracking/homework/artifacts/1/a5e3ed61da9e4e0aa83df6e95a82009f/artifacts', end_time=1717433751264, experiment_id='1', lifecycle_stage='active', run_id='a5e3ed61da9e4e0aa83df6e95a82009f', run_name='loud-wasp-957', run_uuid='a5e3ed61da9e4e0aa83df6e95a82009f', start_time=1717433746536, status='FINISHED', user_id='codespace'>, inputs=<RunInputs: dataset_inputs=[]>>,\n",
       " <Run: data=<RunData: metrics={'rmse': 5.3633599989832135}, params={'max_depth': '14',\n",
       "  'min_samples_leaf': '2',\n",
       "  'min_samples_split': '6',\n",
       "  'n_estimators': '23',\n",
       "  'random_state': '42'}, tags={'mlflow.log-model.history': '[{\"run_id\": \"15225aebb4af43e6bc16f629da534dbe\", '\n",
       "                              '\"artifact_path\": \"models\", \"utc_time_created\": '\n",
       "                              '\"2024-06-03 16:55:45.134613\", \"flavors\": '\n",
       "                              '{\"python_function\": {\"model_path\": \"model.pkl\", '\n",
       "                              '\"predict_fn\": \"predict\", \"loader_module\": '\n",
       "                              '\"mlflow.sklearn\", \"python_version\": \"3.9.19\", '\n",
       "                              '\"env\": {\"conda\": \"conda.yaml\", \"virtualenv\": '\n",
       "                              '\"python_env.yaml\"}}, \"sklearn\": '\n",
       "                              '{\"pickled_model\": \"model.pkl\", '\n",
       "                              '\"sklearn_version\": \"1.5.0\", '\n",
       "                              '\"serialization_format\": \"cloudpickle\", \"code\": '\n",
       "                              'null}}, \"model_uuid\": '\n",
       "                              '\"d7bd57722ee84a0bb813d4dc7eba3b1a\", '\n",
       "                              '\"mlflow_version\": \"2.13.0\", \"model_size_bytes\": '\n",
       "                              '2578115}]',\n",
       "  'mlflow.runName': 'youthful-snail-543',\n",
       "  'mlflow.source.git.commit': 'dd09be2a7b9dd9894aaae6ae3899eb4e789663b2',\n",
       "  'mlflow.source.name': 'hpo.py',\n",
       "  'mlflow.source.type': 'LOCAL',\n",
       "  'mlflow.user': 'codespace',\n",
       "  'model': 'randomforest'}>, info=<RunInfo: artifact_uri='/workspaces/mlops-zoomcamp/02-experiment-tracking/homework/artifacts/1/15225aebb4af43e6bc16f629da534dbe/artifacts', end_time=1717433746504, experiment_id='1', lifecycle_stage='active', run_id='15225aebb4af43e6bc16f629da534dbe', run_name='youthful-snail-543', run_uuid='15225aebb4af43e6bc16f629da534dbe', start_time=1717433740723, status='FINISHED', user_id='codespace'>, inputs=<RunInputs: dataset_inputs=[]>>,\n",
       " <Run: data=<RunData: metrics={'rmse': 5.410518705423984}, params={'max_depth': '12',\n",
       "  'min_samples_leaf': '1',\n",
       "  'min_samples_split': '8',\n",
       "  'n_estimators': '39',\n",
       "  'random_state': '42'}, tags={'mlflow.log-model.history': '[{\"run_id\": \"0599886fc47844b4aac3cdc4b0791785\", '\n",
       "                              '\"artifact_path\": \"models\", \"utc_time_created\": '\n",
       "                              '\"2024-06-03 16:55:39.353410\", \"flavors\": '\n",
       "                              '{\"python_function\": {\"model_path\": \"model.pkl\", '\n",
       "                              '\"predict_fn\": \"predict\", \"loader_module\": '\n",
       "                              '\"mlflow.sklearn\", \"python_version\": \"3.9.19\", '\n",
       "                              '\"env\": {\"conda\": \"conda.yaml\", \"virtualenv\": '\n",
       "                              '\"python_env.yaml\"}}, \"sklearn\": '\n",
       "                              '{\"pickled_model\": \"model.pkl\", '\n",
       "                              '\"sklearn_version\": \"1.5.0\", '\n",
       "                              '\"serialization_format\": \"cloudpickle\", \"code\": '\n",
       "                              'null}}, \"model_uuid\": '\n",
       "                              '\"0160da206ae2465caa613709ac2c67b1\", '\n",
       "                              '\"mlflow_version\": \"2.13.0\", \"model_size_bytes\": '\n",
       "                              '2195576}]',\n",
       "  'mlflow.runName': 'suave-elk-626',\n",
       "  'mlflow.source.git.commit': 'dd09be2a7b9dd9894aaae6ae3899eb4e789663b2',\n",
       "  'mlflow.source.name': 'hpo.py',\n",
       "  'mlflow.source.type': 'LOCAL',\n",
       "  'mlflow.user': 'codespace',\n",
       "  'model': 'randomforest'}>, info=<RunInfo: artifact_uri='/workspaces/mlops-zoomcamp/02-experiment-tracking/homework/artifacts/1/0599886fc47844b4aac3cdc4b0791785/artifacts', end_time=1717433740689, experiment_id='1', lifecycle_stage='active', run_id='0599886fc47844b4aac3cdc4b0791785', run_name='suave-elk-626', run_uuid='0599886fc47844b4aac3cdc4b0791785', start_time=1717433733790, status='FINISHED', user_id='codespace'>, inputs=<RunInputs: dataset_inputs=[]>>,\n",
       " <Run: data=<RunData: metrics={'rmse': 5.4646431328121015}, params={'max_depth': '7',\n",
       "  'min_samples_leaf': '3',\n",
       "  'min_samples_split': '9',\n",
       "  'n_estimators': '13',\n",
       "  'random_state': '42'}, tags={'mlflow.log-model.history': '[{\"run_id\": \"8d55dc7af1ce4814b17164f11cb348f1\", '\n",
       "                              '\"artifact_path\": \"models\", \"utc_time_created\": '\n",
       "                              '\"2024-06-03 16:55:32.429773\", \"flavors\": '\n",
       "                              '{\"python_function\": {\"model_path\": \"model.pkl\", '\n",
       "                              '\"predict_fn\": \"predict\", \"loader_module\": '\n",
       "                              '\"mlflow.sklearn\", \"python_version\": \"3.9.19\", '\n",
       "                              '\"env\": {\"conda\": \"conda.yaml\", \"virtualenv\": '\n",
       "                              '\"python_env.yaml\"}}, \"sklearn\": '\n",
       "                              '{\"pickled_model\": \"model.pkl\", '\n",
       "                              '\"sklearn_version\": \"1.5.0\", '\n",
       "                              '\"serialization_format\": \"cloudpickle\", \"code\": '\n",
       "                              'null}}, \"model_uuid\": '\n",
       "                              '\"b9b99350834e4fb68cc112f4e65d218a\", '\n",
       "                              '\"mlflow_version\": \"2.13.0\", \"model_size_bytes\": '\n",
       "                              '177077}]',\n",
       "  'mlflow.runName': 'orderly-loon-831',\n",
       "  'mlflow.source.git.commit': 'dd09be2a7b9dd9894aaae6ae3899eb4e789663b2',\n",
       "  'mlflow.source.name': 'hpo.py',\n",
       "  'mlflow.source.type': 'LOCAL',\n",
       "  'mlflow.user': 'codespace',\n",
       "  'model': 'randomforest'}>, info=<RunInfo: artifact_uri='/workspaces/mlops-zoomcamp/02-experiment-tracking/homework/artifacts/1/8d55dc7af1ce4814b17164f11cb348f1/artifacts', end_time=1717433733756, experiment_id='1', lifecycle_stage='active', run_id='8d55dc7af1ce4814b17164f11cb348f1', run_name='orderly-loon-831', run_uuid='8d55dc7af1ce4814b17164f11cb348f1', start_time=1717433731381, status='FINISHED', user_id='codespace'>, inputs=<RunInputs: dataset_inputs=[]>>,\n",
       " <Run: data=<RunData: metrics={'rmse': 5.363707729018604}, params={'max_depth': '18',\n",
       "  'min_samples_leaf': '1',\n",
       "  'min_samples_split': '10',\n",
       "  'n_estimators': '38',\n",
       "  'random_state': '42'}, tags={'mlflow.log-model.history': '[{\"run_id\": \"bd592f9c9aa84857809d3000fff55acf\", '\n",
       "                              '\"artifact_path\": \"models\", \"utc_time_created\": '\n",
       "                              '\"2024-06-03 16:55:29.914087\", \"flavors\": '\n",
       "                              '{\"python_function\": {\"model_path\": \"model.pkl\", '\n",
       "                              '\"predict_fn\": \"predict\", \"loader_module\": '\n",
       "                              '\"mlflow.sklearn\", \"python_version\": \"3.9.19\", '\n",
       "                              '\"env\": {\"conda\": \"conda.yaml\", \"virtualenv\": '\n",
       "                              '\"python_env.yaml\"}}, \"sklearn\": '\n",
       "                              '{\"pickled_model\": \"model.pkl\", '\n",
       "                              '\"sklearn_version\": \"1.5.0\", '\n",
       "                              '\"serialization_format\": \"cloudpickle\", \"code\": '\n",
       "                              'null}}, \"model_uuid\": '\n",
       "                              '\"5e958075068b429ea2c0610be6c5a417\", '\n",
       "                              '\"mlflow_version\": \"2.13.0\", \"model_size_bytes\": '\n",
       "                              '4088873}]',\n",
       "  'mlflow.runName': 'worried-gull-650',\n",
       "  'mlflow.source.git.commit': 'dd09be2a7b9dd9894aaae6ae3899eb4e789663b2',\n",
       "  'mlflow.source.name': 'hpo.py',\n",
       "  'mlflow.source.type': 'LOCAL',\n",
       "  'mlflow.user': 'codespace',\n",
       "  'model': 'randomforest'}>, info=<RunInfo: artifact_uri='/workspaces/mlops-zoomcamp/02-experiment-tracking/homework/artifacts/1/bd592f9c9aa84857809d3000fff55acf/artifacts', end_time=1717433731346, experiment_id='1', lifecycle_stage='active', run_id='bd592f9c9aa84857809d3000fff55acf', run_name='worried-gull-650', run_uuid='bd592f9c9aa84857809d3000fff55acf', start_time=1717433721453, status='FINISHED', user_id='codespace'>, inputs=<RunInputs: dataset_inputs=[]>>,\n",
       " <Run: data=<RunData: metrics={'rmse': 5.354695072530291}, params={'max_depth': '15',\n",
       "  'min_samples_leaf': '2',\n",
       "  'min_samples_split': '3',\n",
       "  'n_estimators': '40',\n",
       "  'random_state': '42'}, tags={'mlflow.log-model.history': '[{\"run_id\": \"b4aa41df08bf4c259589e3f0c8d6d1e3\", '\n",
       "                              '\"artifact_path\": \"models\", \"utc_time_created\": '\n",
       "                              '\"2024-06-03 16:55:19.983063\", \"flavors\": '\n",
       "                              '{\"python_function\": {\"model_path\": \"model.pkl\", '\n",
       "                              '\"predict_fn\": \"predict\", \"loader_module\": '\n",
       "                              '\"mlflow.sklearn\", \"python_version\": \"3.9.19\", '\n",
       "                              '\"env\": {\"conda\": \"conda.yaml\", \"virtualenv\": '\n",
       "                              '\"python_env.yaml\"}}, \"sklearn\": '\n",
       "                              '{\"pickled_model\": \"model.pkl\", '\n",
       "                              '\"sklearn_version\": \"1.5.0\", '\n",
       "                              '\"serialization_format\": \"cloudpickle\", \"code\": '\n",
       "                              'null}}, \"model_uuid\": '\n",
       "                              '\"c092fc87d82c417aa544c379f6dd9205\", '\n",
       "                              '\"mlflow_version\": \"2.13.0\", \"model_size_bytes\": '\n",
       "                              '5849789}]',\n",
       "  'mlflow.runName': 'upset-cod-76',\n",
       "  'mlflow.source.git.commit': 'dd09be2a7b9dd9894aaae6ae3899eb4e789663b2',\n",
       "  'mlflow.source.name': 'hpo.py',\n",
       "  'mlflow.source.type': 'LOCAL',\n",
       "  'mlflow.user': 'codespace',\n",
       "  'model': 'randomforest'}>, info=<RunInfo: artifact_uri='/workspaces/mlops-zoomcamp/02-experiment-tracking/homework/artifacts/1/b4aa41df08bf4c259589e3f0c8d6d1e3/artifacts', end_time=1717433721417, experiment_id='1', lifecycle_stage='active', run_id='b4aa41df08bf4c259589e3f0c8d6d1e3', run_name='upset-cod-76', run_uuid='b4aa41df08bf4c259589e3f0c8d6d1e3', start_time=1717433711389, status='FINISHED', user_id='codespace'>, inputs=<RunInputs: dataset_inputs=[]>>,\n",
       " <Run: data=<RunData: metrics={'rmse': 5.4431408201543805}, params={'max_depth': '8',\n",
       "  'min_samples_leaf': '2',\n",
       "  'min_samples_split': '3',\n",
       "  'n_estimators': '30',\n",
       "  'random_state': '42'}, tags={'mlflow.log-model.history': '[{\"run_id\": \"ff552ac3c1004ccea9ee1226e8de8845\", '\n",
       "                              '\"artifact_path\": \"models\", \"utc_time_created\": '\n",
       "                              '\"2024-06-03 16:55:09.958274\", \"flavors\": '\n",
       "                              '{\"python_function\": {\"model_path\": \"model.pkl\", '\n",
       "                              '\"predict_fn\": \"predict\", \"loader_module\": '\n",
       "                              '\"mlflow.sklearn\", \"python_version\": \"3.9.19\", '\n",
       "                              '\"env\": {\"conda\": \"conda.yaml\", \"virtualenv\": '\n",
       "                              '\"python_env.yaml\"}}, \"sklearn\": '\n",
       "                              '{\"pickled_model\": \"model.pkl\", '\n",
       "                              '\"sklearn_version\": \"1.5.0\", '\n",
       "                              '\"serialization_format\": \"cloudpickle\", \"code\": '\n",
       "                              'null}}, \"model_uuid\": '\n",
       "                              '\"eb56fa622d424f13a6bb0ddc55b6ffc8\", '\n",
       "                              '\"mlflow_version\": \"2.13.0\", \"model_size_bytes\": '\n",
       "                              '676277}]',\n",
       "  'mlflow.runName': 'victorious-colt-572',\n",
       "  'mlflow.source.git.commit': 'dd09be2a7b9dd9894aaae6ae3899eb4e789663b2',\n",
       "  'mlflow.source.name': 'hpo.py',\n",
       "  'mlflow.source.type': 'LOCAL',\n",
       "  'mlflow.user': 'codespace',\n",
       "  'model': 'randomforest'}>, info=<RunInfo: artifact_uri='/workspaces/mlops-zoomcamp/02-experiment-tracking/homework/artifacts/1/ff552ac3c1004ccea9ee1226e8de8845/artifacts', end_time=1717433711355, experiment_id='1', lifecycle_stage='active', run_id='ff552ac3c1004ccea9ee1226e8de8845', run_name='victorious-colt-572', run_uuid='ff552ac3c1004ccea9ee1226e8de8845', start_time=1717433707353, status='FINISHED', user_id='codespace'>, inputs=<RunInputs: dataset_inputs=[]>>,\n",
       " <Run: data=<RunData: metrics={'rmse': 5.357490752366866}, params={'max_depth': '14',\n",
       "  'min_samples_leaf': '3',\n",
       "  'min_samples_split': '4',\n",
       "  'n_estimators': '26',\n",
       "  'random_state': '42'}, tags={'mlflow.log-model.history': '[{\"run_id\": \"570dc81a8be0427ca031f07e13446e1b\", '\n",
       "                              '\"artifact_path\": \"models\", \"utc_time_created\": '\n",
       "                              '\"2024-06-03 16:55:05.939437\", \"flavors\": '\n",
       "                              '{\"python_function\": {\"model_path\": \"model.pkl\", '\n",
       "                              '\"predict_fn\": \"predict\", \"loader_module\": '\n",
       "                              '\"mlflow.sklearn\", \"python_version\": \"3.9.19\", '\n",
       "                              '\"env\": {\"conda\": \"conda.yaml\", \"virtualenv\": '\n",
       "                              '\"python_env.yaml\"}}, \"sklearn\": '\n",
       "                              '{\"pickled_model\": \"model.pkl\", '\n",
       "                              '\"sklearn_version\": \"1.5.0\", '\n",
       "                              '\"serialization_format\": \"cloudpickle\", \"code\": '\n",
       "                              'null}}, \"model_uuid\": '\n",
       "                              '\"1d19a9dd777a4e12a28659383501cbbf\", '\n",
       "                              '\"mlflow_version\": \"2.13.0\", \"model_size_bytes\": '\n",
       "                              '3080369}]',\n",
       "  'mlflow.runName': 'painted-goat-105',\n",
       "  'mlflow.source.git.commit': 'dd09be2a7b9dd9894aaae6ae3899eb4e789663b2',\n",
       "  'mlflow.source.name': 'hpo.py',\n",
       "  'mlflow.source.type': 'LOCAL',\n",
       "  'mlflow.user': 'codespace',\n",
       "  'model': 'randomforest'}>, info=<RunInfo: artifact_uri='/workspaces/mlops-zoomcamp/02-experiment-tracking/homework/artifacts/1/570dc81a8be0427ca031f07e13446e1b/artifacts', end_time=1717433707319, experiment_id='1', lifecycle_stage='active', run_id='570dc81a8be0427ca031f07e13446e1b', run_name='painted-goat-105', run_uuid='570dc81a8be0427ca031f07e13446e1b', start_time=1717433700828, status='FINISHED', user_id='codespace'>, inputs=<RunInputs: dataset_inputs=[]>>,\n",
       " <Run: data=<RunData: metrics={'rmse': 5.617650247001616}, params={'max_depth': '4',\n",
       "  'min_samples_leaf': '3',\n",
       "  'min_samples_split': '3',\n",
       "  'n_estimators': '16',\n",
       "  'random_state': '42'}, tags={'mlflow.log-model.history': '[{\"run_id\": \"8295c13850104ab3884696762d8c3207\", '\n",
       "                              '\"artifact_path\": \"models\", \"utc_time_created\": '\n",
       "                              '\"2024-06-03 16:54:59.405414\", \"flavors\": '\n",
       "                              '{\"python_function\": {\"model_path\": \"model.pkl\", '\n",
       "                              '\"predict_fn\": \"predict\", \"loader_module\": '\n",
       "                              '\"mlflow.sklearn\", \"python_version\": \"3.9.19\", '\n",
       "                              '\"env\": {\"conda\": \"conda.yaml\", \"virtualenv\": '\n",
       "                              '\"python_env.yaml\"}}, \"sklearn\": '\n",
       "                              '{\"pickled_model\": \"model.pkl\", '\n",
       "                              '\"sklearn_version\": \"1.5.0\", '\n",
       "                              '\"serialization_format\": \"cloudpickle\", \"code\": '\n",
       "                              'null}}, \"model_uuid\": '\n",
       "                              '\"1619b0e17b7746ba9a861e42c01d881d\", '\n",
       "                              '\"mlflow_version\": \"2.13.0\", \"model_size_bytes\": '\n",
       "                              '40589}]',\n",
       "  'mlflow.runName': 'gregarious-shrew-410',\n",
       "  'mlflow.source.git.commit': 'dd09be2a7b9dd9894aaae6ae3899eb4e789663b2',\n",
       "  'mlflow.source.name': 'hpo.py',\n",
       "  'mlflow.source.type': 'LOCAL',\n",
       "  'mlflow.user': 'codespace',\n",
       "  'model': 'randomforest'}>, info=<RunInfo: artifact_uri='/workspaces/mlops-zoomcamp/02-experiment-tracking/homework/artifacts/1/8295c13850104ab3884696762d8c3207/artifacts', end_time=1717433700793, experiment_id='1', lifecycle_stage='active', run_id='8295c13850104ab3884696762d8c3207', run_name='gregarious-shrew-410', run_uuid='8295c13850104ab3884696762d8c3207', start_time=1717433698749, status='FINISHED', user_id='codespace'>, inputs=<RunInputs: dataset_inputs=[]>>,\n",
       " <Run: data=<RunData: metrics={'rmse': 6.336044899923993}, params={'max_depth': '2',\n",
       "  'min_samples_leaf': '4',\n",
       "  'min_samples_split': '7',\n",
       "  'n_estimators': '22',\n",
       "  'random_state': '42'}, tags={'mlflow.log-model.history': '[{\"run_id\": \"5053bb74458a4003a0bca321a877d705\", '\n",
       "                              '\"artifact_path\": \"models\", \"utc_time_created\": '\n",
       "                              '\"2024-06-03 16:54:57.320366\", \"flavors\": '\n",
       "                              '{\"python_function\": {\"model_path\": \"model.pkl\", '\n",
       "                              '\"predict_fn\": \"predict\", \"loader_module\": '\n",
       "                              '\"mlflow.sklearn\", \"python_version\": \"3.9.19\", '\n",
       "                              '\"env\": {\"conda\": \"conda.yaml\", \"virtualenv\": '\n",
       "                              '\"python_env.yaml\"}}, \"sklearn\": '\n",
       "                              '{\"pickled_model\": \"model.pkl\", '\n",
       "                              '\"sklearn_version\": \"1.5.0\", '\n",
       "                              '\"serialization_format\": \"cloudpickle\", \"code\": '\n",
       "                              'null}}, \"model_uuid\": '\n",
       "                              '\"058660aaef8546e8aa082c04ab000cef\", '\n",
       "                              '\"mlflow_version\": \"2.13.0\", \"model_size_bytes\": '\n",
       "                              '17711}]',\n",
       "  'mlflow.runName': 'upset-deer-406',\n",
       "  'mlflow.source.git.commit': 'dd09be2a7b9dd9894aaae6ae3899eb4e789663b2',\n",
       "  'mlflow.source.name': 'hpo.py',\n",
       "  'mlflow.source.type': 'LOCAL',\n",
       "  'mlflow.user': 'codespace',\n",
       "  'model': 'randomforest'}>, info=<RunInfo: artifact_uri='/workspaces/mlops-zoomcamp/02-experiment-tracking/homework/artifacts/1/5053bb74458a4003a0bca321a877d705/artifacts', end_time=1717433698715, experiment_id='1', lifecycle_stage='active', run_id='5053bb74458a4003a0bca321a877d705', run_name='upset-deer-406', run_uuid='5053bb74458a4003a0bca321a877d705', start_time=1717433696781, status='FINISHED', user_id='codespace'>, inputs=<RunInputs: dataset_inputs=[]>>,\n",
       " <Run: data=<RunData: metrics={'rmse': 5.370086069268862}, params={'max_depth': '13',\n",
       "  'min_samples_leaf': '4',\n",
       "  'min_samples_split': '7',\n",
       "  'n_estimators': '43',\n",
       "  'random_state': '42'}, tags={'mlflow.log-model.history': '[{\"run_id\": \"4dfc7b26d4b345118a014fb84f32de1f\", '\n",
       "                              '\"artifact_path\": \"models\", \"utc_time_created\": '\n",
       "                              '\"2024-06-03 16:54:54.521582\", \"flavors\": '\n",
       "                              '{\"python_function\": {\"model_path\": \"model.pkl\", '\n",
       "                              '\"predict_fn\": \"predict\", \"loader_module\": '\n",
       "                              '\"mlflow.sklearn\", \"python_version\": \"3.9.19\", '\n",
       "                              '\"env\": {\"conda\": \"conda.yaml\", \"virtualenv\": '\n",
       "                              '\"python_env.yaml\"}}, \"sklearn\": '\n",
       "                              '{\"pickled_model\": \"model.pkl\", '\n",
       "                              '\"sklearn_version\": \"1.5.0\", '\n",
       "                              '\"serialization_format\": \"cloudpickle\", \"code\": '\n",
       "                              'null}}, \"model_uuid\": '\n",
       "                              '\"48f3779a41f24dffb8d4e6cf9d5e5cb6\", '\n",
       "                              '\"mlflow_version\": \"2.13.0\", \"model_size_bytes\": '\n",
       "                              '4031771}]',\n",
       "  'mlflow.runName': 'mysterious-cow-750',\n",
       "  'mlflow.source.git.commit': 'dd09be2a7b9dd9894aaae6ae3899eb4e789663b2',\n",
       "  'mlflow.source.name': 'hpo.py',\n",
       "  'mlflow.source.type': 'LOCAL',\n",
       "  'mlflow.user': 'codespace',\n",
       "  'model': 'randomforest'}>, info=<RunInfo: artifact_uri='/workspaces/mlops-zoomcamp/02-experiment-tracking/homework/artifacts/1/4dfc7b26d4b345118a014fb84f32de1f/artifacts', end_time=1717433696747, experiment_id='1', lifecycle_stage='active', run_id='4dfc7b26d4b345118a014fb84f32de1f', run_name='mysterious-cow-750', run_uuid='4dfc7b26d4b345118a014fb84f32de1f', start_time=1717433687040, status='FINISHED', user_id='codespace'>, inputs=<RunInputs: dataset_inputs=[]>>,\n",
       " <Run: data=<RunData: metrics={'rmse': 5.355041749098929}, params={'max_depth': '20',\n",
       "  'min_samples_leaf': '1',\n",
       "  'min_samples_split': '9',\n",
       "  'n_estimators': '19',\n",
       "  'random_state': '42'}, tags={'mlflow.runName': 'upbeat-pug-22',\n",
       "  'mlflow.source.git.commit': 'dd09be2a7b9dd9894aaae6ae3899eb4e789663b2',\n",
       "  'mlflow.source.name': 'hpo.py',\n",
       "  'mlflow.source.type': 'LOCAL',\n",
       "  'mlflow.user': 'codespace',\n",
       "  'model': 'randomforest'}>, info=<RunInfo: artifact_uri='/workspaces/mlops-zoomcamp/02-experiment-tracking/homework/artifacts/1/6cac4231c2a84447acdecc53b6771012/artifacts', end_time=1717432950270, experiment_id='1', lifecycle_stage='active', run_id='6cac4231c2a84447acdecc53b6771012', run_name='upbeat-pug-22', run_uuid='6cac4231c2a84447acdecc53b6771012', start_time=1717432945285, status='FINISHED', user_id='codespace'>, inputs=<RunInputs: dataset_inputs=[]>>,\n",
       " <Run: data=<RunData: metrics={'rmse': 5.37159585587677}, params={'max_depth': '18',\n",
       "  'min_samples_leaf': '1',\n",
       "  'min_samples_split': '6',\n",
       "  'n_estimators': '13',\n",
       "  'random_state': '42'}, tags={'mlflow.runName': 'nosy-sloth-90',\n",
       "  'mlflow.source.git.commit': 'dd09be2a7b9dd9894aaae6ae3899eb4e789663b2',\n",
       "  'mlflow.source.name': 'hpo.py',\n",
       "  'mlflow.source.type': 'LOCAL',\n",
       "  'mlflow.user': 'codespace',\n",
       "  'model': 'randomforest'}>, info=<RunInfo: artifact_uri='/workspaces/mlops-zoomcamp/02-experiment-tracking/homework/artifacts/1/8e879285c1784905b7a0351e3f88fb98/artifacts', end_time=1717432945247, experiment_id='1', lifecycle_stage='active', run_id='8e879285c1784905b7a0351e3f88fb98', run_name='nosy-sloth-90', run_uuid='8e879285c1784905b7a0351e3f88fb98', start_time=1717432942088, status='FINISHED', user_id='codespace'>, inputs=<RunInputs: dataset_inputs=[]>>,\n",
       " <Run: data=<RunData: metrics={'rmse': 5.538069949003994}, params={'max_depth': '5',\n",
       "  'min_samples_leaf': '3',\n",
       "  'min_samples_split': '8',\n",
       "  'n_estimators': '21',\n",
       "  'random_state': '42'}, tags={'mlflow.runName': 'rare-bass-893',\n",
       "  'mlflow.source.git.commit': 'dd09be2a7b9dd9894aaae6ae3899eb4e789663b2',\n",
       "  'mlflow.source.name': 'hpo.py',\n",
       "  'mlflow.source.type': 'LOCAL',\n",
       "  'mlflow.user': 'codespace',\n",
       "  'model': 'randomforest'}>, info=<RunInfo: artifact_uri='/workspaces/mlops-zoomcamp/02-experiment-tracking/homework/artifacts/1/5fca738438524a698333009336154b9d/artifacts', end_time=1717432942051, experiment_id='1', lifecycle_stage='active', run_id='5fca738438524a698333009336154b9d', run_name='rare-bass-893', run_uuid='5fca738438524a698333009336154b9d', start_time=1717432941000, status='FINISHED', user_id='codespace'>, inputs=<RunInputs: dataset_inputs=[]>>,\n",
       " <Run: data=<RunData: metrics={'rmse': 5.484068016681342}, params={'max_depth': '7',\n",
       "  'min_samples_leaf': '1',\n",
       "  'min_samples_split': '7',\n",
       "  'n_estimators': '41',\n",
       "  'random_state': '42'}, tags={'mlflow.runName': 'luminous-pig-175',\n",
       "  'mlflow.source.git.commit': 'dd09be2a7b9dd9894aaae6ae3899eb4e789663b2',\n",
       "  'mlflow.source.name': 'hpo.py',\n",
       "  'mlflow.source.type': 'LOCAL',\n",
       "  'mlflow.user': 'codespace',\n",
       "  'model': 'randomforest'}>, info=<RunInfo: artifact_uri='/workspaces/mlops-zoomcamp/02-experiment-tracking/homework/artifacts/1/c71932eef1bc4a4cbf564225ebf10708/artifacts', end_time=1717432940965, experiment_id='1', lifecycle_stage='active', run_id='c71932eef1bc4a4cbf564225ebf10708', run_name='luminous-pig-175', run_uuid='c71932eef1bc4a4cbf564225ebf10708', start_time=1717432938121, status='FINISHED', user_id='codespace'>, inputs=<RunInputs: dataset_inputs=[]>>,\n",
       " <Run: data=<RunData: metrics={'rmse': 5.335419588556921}, params={'max_depth': '19',\n",
       "  'min_samples_leaf': '2',\n",
       "  'min_samples_split': '2',\n",
       "  'n_estimators': '11',\n",
       "  'random_state': '42'}, tags={'mlflow.runName': 'secretive-lark-902',\n",
       "  'mlflow.source.git.commit': 'dd09be2a7b9dd9894aaae6ae3899eb4e789663b2',\n",
       "  'mlflow.source.name': 'hpo.py',\n",
       "  'mlflow.source.type': 'LOCAL',\n",
       "  'mlflow.user': 'codespace',\n",
       "  'model': 'randomforest'}>, info=<RunInfo: artifact_uri='/workspaces/mlops-zoomcamp/02-experiment-tracking/homework/artifacts/1/2d206fbd234f48e391ad62e5bb44e0f5/artifacts', end_time=1717432938088, experiment_id='1', lifecycle_stage='active', run_id='2d206fbd234f48e391ad62e5bb44e0f5', run_name='secretive-lark-902', run_uuid='2d206fbd234f48e391ad62e5bb44e0f5', start_time=1717432934716, status='FINISHED', user_id='codespace'>, inputs=<RunInputs: dataset_inputs=[]>>,\n",
       " <Run: data=<RunData: metrics={'rmse': 5.3633599989832135}, params={'max_depth': '14',\n",
       "  'min_samples_leaf': '2',\n",
       "  'min_samples_split': '6',\n",
       "  'n_estimators': '23',\n",
       "  'random_state': '42'}, tags={'mlflow.runName': 'tasteful-hare-879',\n",
       "  'mlflow.source.git.commit': 'dd09be2a7b9dd9894aaae6ae3899eb4e789663b2',\n",
       "  'mlflow.source.name': 'hpo.py',\n",
       "  'mlflow.source.type': 'LOCAL',\n",
       "  'mlflow.user': 'codespace',\n",
       "  'model': 'randomforest'}>, info=<RunInfo: artifact_uri='/workspaces/mlops-zoomcamp/02-experiment-tracking/homework/artifacts/1/2e449f9206e74ac986cbfb6610549adb/artifacts', end_time=1717432934683, experiment_id='1', lifecycle_stage='active', run_id='2e449f9206e74ac986cbfb6610549adb', run_name='tasteful-hare-879', run_uuid='2e449f9206e74ac986cbfb6610549adb', start_time=1717432930338, status='FINISHED', user_id='codespace'>, inputs=<RunInputs: dataset_inputs=[]>>,\n",
       " <Run: data=<RunData: metrics={'rmse': 5.410518705423984}, params={'max_depth': '12',\n",
       "  'min_samples_leaf': '1',\n",
       "  'min_samples_split': '8',\n",
       "  'n_estimators': '39',\n",
       "  'random_state': '42'}, tags={'mlflow.runName': 'sassy-steed-909',\n",
       "  'mlflow.source.git.commit': 'dd09be2a7b9dd9894aaae6ae3899eb4e789663b2',\n",
       "  'mlflow.source.name': 'hpo.py',\n",
       "  'mlflow.source.type': 'LOCAL',\n",
       "  'mlflow.user': 'codespace',\n",
       "  'model': 'randomforest'}>, info=<RunInfo: artifact_uri='/workspaces/mlops-zoomcamp/02-experiment-tracking/homework/artifacts/1/6c2df3dfc2224e689ed52c91f7b39c6d/artifacts', end_time=1717432930303, experiment_id='1', lifecycle_stage='active', run_id='6c2df3dfc2224e689ed52c91f7b39c6d', run_name='sassy-steed-909', run_uuid='6c2df3dfc2224e689ed52c91f7b39c6d', start_time=1717432924956, status='FINISHED', user_id='codespace'>, inputs=<RunInputs: dataset_inputs=[]>>,\n",
       " <Run: data=<RunData: metrics={'rmse': 5.4646431328121015}, params={'max_depth': '7',\n",
       "  'min_samples_leaf': '3',\n",
       "  'min_samples_split': '9',\n",
       "  'n_estimators': '13',\n",
       "  'random_state': '42'}, tags={'mlflow.runName': 'enchanting-loon-355',\n",
       "  'mlflow.source.git.commit': 'dd09be2a7b9dd9894aaae6ae3899eb4e789663b2',\n",
       "  'mlflow.source.name': 'hpo.py',\n",
       "  'mlflow.source.type': 'LOCAL',\n",
       "  'mlflow.user': 'codespace',\n",
       "  'model': 'randomforest'}>, info=<RunInfo: artifact_uri='/workspaces/mlops-zoomcamp/02-experiment-tracking/homework/artifacts/1/4f69f9b5071f4b35a80bb2052700a6b1/artifacts', end_time=1717432924922, experiment_id='1', lifecycle_stage='active', run_id='4f69f9b5071f4b35a80bb2052700a6b1', run_name='enchanting-loon-355', run_uuid='4f69f9b5071f4b35a80bb2052700a6b1', start_time=1717432923894, status='FINISHED', user_id='codespace'>, inputs=<RunInputs: dataset_inputs=[]>>,\n",
       " <Run: data=<RunData: metrics={'rmse': 5.363707729018604}, params={'max_depth': '18',\n",
       "  'min_samples_leaf': '1',\n",
       "  'min_samples_split': '10',\n",
       "  'n_estimators': '38',\n",
       "  'random_state': '42'}, tags={'mlflow.runName': 'brawny-whale-575',\n",
       "  'mlflow.source.git.commit': 'dd09be2a7b9dd9894aaae6ae3899eb4e789663b2',\n",
       "  'mlflow.source.name': 'hpo.py',\n",
       "  'mlflow.source.type': 'LOCAL',\n",
       "  'mlflow.user': 'codespace',\n",
       "  'model': 'randomforest'}>, info=<RunInfo: artifact_uri='/workspaces/mlops-zoomcamp/02-experiment-tracking/homework/artifacts/1/d009038915d84c56a1ca676dce290e30/artifacts', end_time=1717432923861, experiment_id='1', lifecycle_stage='active', run_id='d009038915d84c56a1ca676dce290e30', run_name='brawny-whale-575', run_uuid='d009038915d84c56a1ca676dce290e30', start_time=1717432915376, status='FINISHED', user_id='codespace'>, inputs=<RunInputs: dataset_inputs=[]>>,\n",
       " <Run: data=<RunData: metrics={'rmse': 5.354695072530291}, params={'max_depth': '15',\n",
       "  'min_samples_leaf': '2',\n",
       "  'min_samples_split': '3',\n",
       "  'n_estimators': '40',\n",
       "  'random_state': '42'}, tags={'mlflow.runName': 'calm-squid-786',\n",
       "  'mlflow.source.git.commit': 'dd09be2a7b9dd9894aaae6ae3899eb4e789663b2',\n",
       "  'mlflow.source.name': 'hpo.py',\n",
       "  'mlflow.source.type': 'LOCAL',\n",
       "  'mlflow.user': 'codespace',\n",
       "  'model': 'randomforest'}>, info=<RunInfo: artifact_uri='/workspaces/mlops-zoomcamp/02-experiment-tracking/homework/artifacts/1/2f0a8a98a0964634aa1e93480cf08b85/artifacts', end_time=1717432915343, experiment_id='1', lifecycle_stage='active', run_id='2f0a8a98a0964634aa1e93480cf08b85', run_name='calm-squid-786', run_uuid='2f0a8a98a0964634aa1e93480cf08b85', start_time=1717432906505, status='FINISHED', user_id='codespace'>, inputs=<RunInputs: dataset_inputs=[]>>,\n",
       " <Run: data=<RunData: metrics={'rmse': 5.4431408201543805}, params={'max_depth': '8',\n",
       "  'min_samples_leaf': '2',\n",
       "  'min_samples_split': '3',\n",
       "  'n_estimators': '30',\n",
       "  'random_state': '42'}, tags={'mlflow.runName': 'sneaky-whale-609',\n",
       "  'mlflow.source.git.commit': 'dd09be2a7b9dd9894aaae6ae3899eb4e789663b2',\n",
       "  'mlflow.source.name': 'hpo.py',\n",
       "  'mlflow.source.type': 'LOCAL',\n",
       "  'mlflow.user': 'codespace',\n",
       "  'model': 'randomforest'}>, info=<RunInfo: artifact_uri='/workspaces/mlops-zoomcamp/02-experiment-tracking/homework/artifacts/1/b056e968d91f4fa7b2a4f1dcf1f0b53f/artifacts', end_time=1717432906472, experiment_id='1', lifecycle_stage='active', run_id='b056e968d91f4fa7b2a4f1dcf1f0b53f', run_name='sneaky-whale-609', run_uuid='b056e968d91f4fa7b2a4f1dcf1f0b53f', start_time=1717432903861, status='FINISHED', user_id='codespace'>, inputs=<RunInputs: dataset_inputs=[]>>,\n",
       " <Run: data=<RunData: metrics={'rmse': 5.357490752366866}, params={'max_depth': '14',\n",
       "  'min_samples_leaf': '3',\n",
       "  'min_samples_split': '4',\n",
       "  'n_estimators': '26',\n",
       "  'random_state': '42'}, tags={'mlflow.runName': 'adaptable-fox-733',\n",
       "  'mlflow.source.git.commit': 'dd09be2a7b9dd9894aaae6ae3899eb4e789663b2',\n",
       "  'mlflow.source.name': 'hpo.py',\n",
       "  'mlflow.source.type': 'LOCAL',\n",
       "  'mlflow.user': 'codespace',\n",
       "  'model': 'randomforest'}>, info=<RunInfo: artifact_uri='/workspaces/mlops-zoomcamp/02-experiment-tracking/homework/artifacts/1/752457289ca8427893fb4a620ea066d5/artifacts', end_time=1717432903827, experiment_id='1', lifecycle_stage='active', run_id='752457289ca8427893fb4a620ea066d5', run_name='adaptable-fox-733', run_uuid='752457289ca8427893fb4a620ea066d5', start_time=1717432898702, status='FINISHED', user_id='codespace'>, inputs=<RunInputs: dataset_inputs=[]>>,\n",
       " <Run: data=<RunData: metrics={'rmse': 5.617650247001616}, params={'max_depth': '4',\n",
       "  'min_samples_leaf': '3',\n",
       "  'min_samples_split': '3',\n",
       "  'n_estimators': '16',\n",
       "  'random_state': '42'}, tags={'mlflow.runName': 'mysterious-panda-986',\n",
       "  'mlflow.source.git.commit': 'dd09be2a7b9dd9894aaae6ae3899eb4e789663b2',\n",
       "  'mlflow.source.name': 'hpo.py',\n",
       "  'mlflow.source.type': 'LOCAL',\n",
       "  'mlflow.user': 'codespace',\n",
       "  'model': 'randomforest'}>, info=<RunInfo: artifact_uri='/workspaces/mlops-zoomcamp/02-experiment-tracking/homework/artifacts/1/29a973527de84b838608726eb1c32bc0/artifacts', end_time=1717432898661, experiment_id='1', lifecycle_stage='active', run_id='29a973527de84b838608726eb1c32bc0', run_name='mysterious-panda-986', run_uuid='29a973527de84b838608726eb1c32bc0', start_time=1717432898002, status='FINISHED', user_id='codespace'>, inputs=<RunInputs: dataset_inputs=[]>>,\n",
       " <Run: data=<RunData: metrics={'rmse': 6.336044899923993}, params={'max_depth': '2',\n",
       "  'min_samples_leaf': '4',\n",
       "  'min_samples_split': '7',\n",
       "  'n_estimators': '22',\n",
       "  'random_state': '42'}, tags={'mlflow.runName': 'orderly-whale-274',\n",
       "  'mlflow.source.git.commit': 'dd09be2a7b9dd9894aaae6ae3899eb4e789663b2',\n",
       "  'mlflow.source.name': 'hpo.py',\n",
       "  'mlflow.source.type': 'LOCAL',\n",
       "  'mlflow.user': 'codespace',\n",
       "  'model': 'randomforest'}>, info=<RunInfo: artifact_uri='/workspaces/mlops-zoomcamp/02-experiment-tracking/homework/artifacts/1/eb0742a361534ae29df02ceeed33b56e/artifacts', end_time=1717432897960, experiment_id='1', lifecycle_stage='active', run_id='eb0742a361534ae29df02ceeed33b56e', run_name='orderly-whale-274', run_uuid='eb0742a361534ae29df02ceeed33b56e', start_time=1717432897465, status='FINISHED', user_id='codespace'>, inputs=<RunInputs: dataset_inputs=[]>>,\n",
       " <Run: data=<RunData: metrics={'rmse': 5.370086069268862}, params={'max_depth': '13',\n",
       "  'min_samples_leaf': '4',\n",
       "  'min_samples_split': '7',\n",
       "  'n_estimators': '43',\n",
       "  'random_state': '42'}, tags={'mlflow.runName': 'peaceful-crow-420',\n",
       "  'mlflow.source.git.commit': 'dd09be2a7b9dd9894aaae6ae3899eb4e789663b2',\n",
       "  'mlflow.source.name': 'hpo.py',\n",
       "  'mlflow.source.type': 'LOCAL',\n",
       "  'mlflow.user': 'codespace',\n",
       "  'model': 'randomforest'}>, info=<RunInfo: artifact_uri='/workspaces/mlops-zoomcamp/02-experiment-tracking/homework/artifacts/1/a63a4a159c004efcbe340da3ef411d56/artifacts', end_time=1717432897426, experiment_id='1', lifecycle_stage='active', run_id='a63a4a159c004efcbe340da3ef411d56', run_name='peaceful-crow-420', run_uuid='a63a4a159c004efcbe340da3ef411d56', start_time=1717432889904, status='FINISHED', user_id='codespace'>, inputs=<RunInputs: dataset_inputs=[]>>]"
      ]
     },
     "execution_count": 20,
     "metadata": {},
     "output_type": "execute_result"
    }
   ],
   "source": [
    "client.search_runs(experiment_ids=[\"1\"])"
   ]
  },
  {
   "cell_type": "code",
   "execution_count": 32,
   "id": "f40acbab-6f11-4bea-b561-cd1a239b04d8",
   "metadata": {},
   "outputs": [
    {
     "data": {
      "text/plain": [
       "'6b4d9a1f168b4230a9fe31455f402ad5'"
      ]
     },
     "execution_count": 32,
     "metadata": {},
     "output_type": "execute_result"
    }
   ],
   "source": [
    "client.search_runs(experiment_ids=[\"1\"], order_by=[\"metrics.test_rmse ASC\"])[0].info.run_id"
   ]
  },
  {
   "cell_type": "code",
   "execution_count": 17,
   "id": "705da8a0-5c63-4770-af84-215cad8f436d",
   "metadata": {},
   "outputs": [
    {
     "name": "stdout",
     "output_type": "stream",
     "text": [
      "Untitled.ipynb  \u001b[0m\u001b[34;42martifacts\u001b[0m/  \u001b[34;42mdataset\u001b[0m/  \u001b[34;42mmlruns\u001b[0m/  preprocess_data.py  train.py\n",
      "\u001b[34;42m__pycache__\u001b[0m/    backend.db  hpo.py    \u001b[34;42moutput\u001b[0m/  register_model.py\n"
     ]
    }
   ],
   "source": [
    "ls"
   ]
  },
  {
   "cell_type": "code",
   "execution_count": 31,
   "id": "66106b5a-5a28-4bbb-b6d9-bf9fd627496c",
   "metadata": {},
   "outputs": [
    {
     "name": "stdout",
     "output_type": "stream",
     "text": [
      "2024/06/03 17:37:31 WARNING mlflow.utils.autologging_utils: You are using an unsupported version of sklearn. If you encounter errors during autologging, try upgrading / downgrading sklearn to a supported version, or try upgrading MLflow.\n",
      "2024/06/03 17:37:32 WARNING mlflow.sklearn: Failed to log training dataset information to MLflow Tracking. Reason: 'numpy.ndarray' object has no attribute 'toarray'\n",
      "2024/06/03 17:37:37 WARNING mlflow.utils.autologging_utils: MLflow autologging encountered a warning: \"/home/codespace/anaconda3/envs/exp-tracking-env/lib/python3.9/site-packages/_distutils_hack/__init__.py:26: UserWarning: Setuptools is replacing distutils.\"\n",
      "2024/06/03 17:37:39 WARNING mlflow.sklearn: Failed to log training dataset information to MLflow Tracking. Reason: 'numpy.ndarray' object has no attribute 'toarray'\n",
      "2024/06/03 17:37:45 WARNING mlflow.sklearn: Failed to log training dataset information to MLflow Tracking. Reason: 'numpy.ndarray' object has no attribute 'toarray'\n",
      "2024/06/03 17:37:57 WARNING mlflow.sklearn: Failed to log training dataset information to MLflow Tracking. Reason: 'numpy.ndarray' object has no attribute 'toarray'\n",
      "2024/06/03 17:38:09 WARNING mlflow.sklearn: Failed to log training dataset information to MLflow Tracking. Reason: 'numpy.ndarray' object has no attribute 'toarray'\n",
      "Registered model 'random-forest-model' already exists. Creating a new version of this model...\n",
      "2024/06/03 17:38:17 INFO mlflow.store.model_registry.abstract_store: Waiting up to 300 seconds for model version to finish creation. Model name: random-forest-model, version 4\n",
      "Created version '4' of model 'random-forest-model'.\n"
     ]
    }
   ],
   "source": [
    "!python register_model.py"
   ]
  },
  {
   "cell_type": "code",
   "execution_count": 23,
   "id": "43c82820-0f40-41d1-a53e-110660ba5125",
   "metadata": {},
   "outputs": [
    {
     "data": {
      "text/plain": [
       "<Experiment: artifact_location='/workspaces/mlops-zoomcamp/02-experiment-tracking/homework/artifacts/2', creation_time=1717434831461, experiment_id='2', last_update_time=1717434831461, lifecycle_stage='active', name='random-forest-best-models', tags={}>"
      ]
     },
     "execution_count": 23,
     "metadata": {},
     "output_type": "execute_result"
    }
   ],
   "source": [
    "EXPERIMENT_NAME = \"random-forest-best-models\"\n",
    "client.get_experiment_by_name(EXPERIMENT_NAME)"
   ]
  },
  {
   "cell_type": "code",
   "execution_count": 30,
   "id": "102418ea-493c-441c-bfd6-65a8cc5f9238",
   "metadata": {},
   "outputs": [
    {
     "data": {
      "text/plain": [
       "'2'"
      ]
     },
     "execution_count": 30,
     "metadata": {},
     "output_type": "execute_result"
    }
   ],
   "source": [
    "client.search_experiments(filter_string=f\"name = '{EXPERIMENT_NAME}'\")[0].experiment_id"
   ]
  },
  {
   "cell_type": "code",
   "execution_count": null,
   "id": "f5af4feb-1e0d-4172-8c8e-a0263ebe2ca0",
   "metadata": {},
   "outputs": [],
   "source": []
  }
 ],
 "metadata": {
  "kernelspec": {
   "display_name": "Python 3 (ipykernel)",
   "language": "python",
   "name": "python3"
  },
  "language_info": {
   "codemirror_mode": {
    "name": "ipython",
    "version": 3
   },
   "file_extension": ".py",
   "mimetype": "text/x-python",
   "name": "python",
   "nbconvert_exporter": "python",
   "pygments_lexer": "ipython3",
   "version": "3.9.19"
  }
 },
 "nbformat": 4,
 "nbformat_minor": 5
}
